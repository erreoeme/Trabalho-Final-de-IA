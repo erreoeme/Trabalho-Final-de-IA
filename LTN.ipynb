{
  "cells": [
    {
      "cell_type": "markdown",
      "metadata": {
        "id": "Harmrl1MCtwa"
      },
      "source": [
        "# Preparando o Ambiente"
      ]
    },
    {
      "cell_type": "code",
      "execution_count": 382,
      "metadata": {
        "id": "j3_UBCCZww11",
        "colab": {
          "base_uri": "https://localhost:8080/"
        },
        "outputId": "15ec1b40-c5c5-42c6-8a71-a42a6d6ab923"
      },
      "outputs": [
        {
          "output_type": "stream",
          "name": "stdout",
          "text": [
            "Requirement already satisfied: LTNtorch in /usr/local/lib/python3.10/dist-packages (1.0.1)\n",
            "Requirement already satisfied: numpy in /usr/local/lib/python3.10/dist-packages (from LTNtorch) (1.25.2)\n",
            "Requirement already satisfied: torch in /usr/local/lib/python3.10/dist-packages (from LTNtorch) (2.2.1+cu121)\n",
            "Requirement already satisfied: filelock in /usr/local/lib/python3.10/dist-packages (from torch->LTNtorch) (3.13.3)\n",
            "Requirement already satisfied: typing-extensions>=4.8.0 in /usr/local/lib/python3.10/dist-packages (from torch->LTNtorch) (4.10.0)\n",
            "Requirement already satisfied: sympy in /usr/local/lib/python3.10/dist-packages (from torch->LTNtorch) (1.12)\n",
            "Requirement already satisfied: networkx in /usr/local/lib/python3.10/dist-packages (from torch->LTNtorch) (3.2.1)\n",
            "Requirement already satisfied: jinja2 in /usr/local/lib/python3.10/dist-packages (from torch->LTNtorch) (3.1.3)\n",
            "Requirement already satisfied: fsspec in /usr/local/lib/python3.10/dist-packages (from torch->LTNtorch) (2023.6.0)\n",
            "Requirement already satisfied: nvidia-cuda-nvrtc-cu12==12.1.105 in /usr/local/lib/python3.10/dist-packages (from torch->LTNtorch) (12.1.105)\n",
            "Requirement already satisfied: nvidia-cuda-runtime-cu12==12.1.105 in /usr/local/lib/python3.10/dist-packages (from torch->LTNtorch) (12.1.105)\n",
            "Requirement already satisfied: nvidia-cuda-cupti-cu12==12.1.105 in /usr/local/lib/python3.10/dist-packages (from torch->LTNtorch) (12.1.105)\n",
            "Requirement already satisfied: nvidia-cudnn-cu12==8.9.2.26 in /usr/local/lib/python3.10/dist-packages (from torch->LTNtorch) (8.9.2.26)\n",
            "Requirement already satisfied: nvidia-cublas-cu12==12.1.3.1 in /usr/local/lib/python3.10/dist-packages (from torch->LTNtorch) (12.1.3.1)\n",
            "Requirement already satisfied: nvidia-cufft-cu12==11.0.2.54 in /usr/local/lib/python3.10/dist-packages (from torch->LTNtorch) (11.0.2.54)\n",
            "Requirement already satisfied: nvidia-curand-cu12==10.3.2.106 in /usr/local/lib/python3.10/dist-packages (from torch->LTNtorch) (10.3.2.106)\n",
            "Requirement already satisfied: nvidia-cusolver-cu12==11.4.5.107 in /usr/local/lib/python3.10/dist-packages (from torch->LTNtorch) (11.4.5.107)\n",
            "Requirement already satisfied: nvidia-cusparse-cu12==12.1.0.106 in /usr/local/lib/python3.10/dist-packages (from torch->LTNtorch) (12.1.0.106)\n",
            "Requirement already satisfied: nvidia-nccl-cu12==2.19.3 in /usr/local/lib/python3.10/dist-packages (from torch->LTNtorch) (2.19.3)\n",
            "Requirement already satisfied: nvidia-nvtx-cu12==12.1.105 in /usr/local/lib/python3.10/dist-packages (from torch->LTNtorch) (12.1.105)\n",
            "Requirement already satisfied: triton==2.2.0 in /usr/local/lib/python3.10/dist-packages (from torch->LTNtorch) (2.2.0)\n",
            "Requirement already satisfied: nvidia-nvjitlink-cu12 in /usr/local/lib/python3.10/dist-packages (from nvidia-cusolver-cu12==11.4.5.107->torch->LTNtorch) (12.4.99)\n",
            "Requirement already satisfied: MarkupSafe>=2.0 in /usr/local/lib/python3.10/dist-packages (from jinja2->torch->LTNtorch) (2.1.5)\n",
            "Requirement already satisfied: mpmath>=0.19 in /usr/local/lib/python3.10/dist-packages (from sympy->torch->LTNtorch) (1.3.0)\n"
          ]
        }
      ],
      "source": [
        "!pip install LTNtorch"
      ]
    },
    {
      "cell_type": "code",
      "execution_count": 383,
      "metadata": {
        "id": "Obim2XIil-lG"
      },
      "outputs": [],
      "source": [
        "import matplotlib.pyplot as plt\n",
        "import ltn\n",
        "import torch\n",
        "import numpy as np\n",
        "import math"
      ]
    },
    {
      "cell_type": "markdown",
      "metadata": {
        "id": "cFAP49LgyD94"
      },
      "source": [
        "# Codes originais (não é necessário usar)"
      ]
    },
    {
      "cell_type": "markdown",
      "metadata": {
        "id": "avYUXQFSPkAB"
      },
      "source": [
        "ltn_relations_milena.py (Nao rodar!)"
      ]
    },
    {
      "cell_type": "code",
      "execution_count": 384,
      "metadata": {
        "id": "o-xP7V2ez5Ys"
      },
      "outputs": [],
      "source": [
        "import matplotlib.pyplot as plt\n",
        "import numpy as np\n",
        "import tensorflow as tf\n",
        "\n",
        "def get_coordinates( bb ):\n",
        "    x0 = bb[ 0 ]\n",
        "    y0 = bb[ 1 ]\n",
        "    x1 = bb[ 0 ] + bb[ -2 ]\n",
        "    y1 = bb[ 1 ] + bb[ -1 ]\n",
        "    return [ x0, y0, x1, y1 ]\n",
        "\n",
        "\n",
        "def calculate_angle( bb1, bb2 ):\n",
        "    c2 = np.array( (bb2[ 0 ], bb2[ 1 ]) )\n",
        "    c1 = np.array( (bb1[ 0 ], bb1[ 1 ]) )\n",
        "\n",
        "    x = c2 - c1\n",
        "\n",
        "    return np.angle( x[ 0 ] + 1j * x[ 1 ], deg = True )\n",
        "\n",
        "\n",
        "def translate_bbs( bb1: tf.Tensor, bb2: tf.Tensor, is_class_first = False,\n",
        "                   is_yolo_format = False ):\n",
        "    \"\"\"\n",
        "    Translate bounding box coordinates based on specified conditions.\n",
        "\n",
        "    Parameters:\n",
        "        bb1 (tensor): The coordinates of the first bounding box.\n",
        "        bb2 (tensor): The coordinates of the second bounding box.\n",
        "        is_class_first (bool, optional): If True, assumes the class is the first element in each bounding box. Default is False.\n",
        "        is_yolo_format (bool, optional): If True, assumes the bounding boxes are in YOLO format. Default is False.\n",
        "\n",
        "    Returns:\n",
        "        tuple: Translated coordinates of the first and second bounding boxes in the format (x, y, w, h).\n",
        "\n",
        "    Example:\n",
        "        bb1 = tf.constant([0.3, 0.3, 0.2, 0.2])\n",
        "        bb2 = tf.constant([0.3, 0.3, 0.1, 0.1])\n",
        "        translated_bb1, translated_bb2 = translate_bbs(bb1, bb2, is_class_first=True, is_yolo_format=True)\n",
        "    \"\"\"\n",
        "\n",
        "    if is_class_first :\n",
        "        if is_yolo_format :\n",
        "            x1, y1 = bb1[ ..., 1 ] - bb1[ ..., 3 ] / 2.0, bb1[ ..., 2 ] - bb1[ ..., 4 ] / 2.0\n",
        "            x2, y2 = bb2[ ..., 1 ] - bb2[ ..., 3 ] / 2.0, bb2[ ..., 2 ] - bb2[ ..., 4 ] / 2.0\n",
        "            w1, h1, w2, h2 = bb1[ ..., 3 ], bb1[ ..., 4 ], bb2[ ..., 3 ], bb2[ ..., 4 ]\n",
        "        else :\n",
        "            x1, y1, w1, h1 = bb1[ ..., 1 ], bb1[ ..., 2 ], bb1[ ..., 3 ], bb1[ ..., 4 ]\n",
        "            x2, y2, w2, h2 = bb2[ ..., 1 ], bb2[ ..., 2 ], bb2[ ..., 3 ], bb2[ ..., 4 ]\n",
        "\n",
        "    else :\n",
        "        if is_yolo_format :\n",
        "            x1, y1 = bb1[ ..., 0 ] - bb1[ ..., 2 ] / 2.0, bb1[ ..., 1 ] - bb1[ ..., 3 ] / 2.0\n",
        "            x2, y2 = bb2[ ..., 0 ] - bb2[ ..., 2 ] / 2.0, bb2[ ..., 1 ] - bb2[ ..., 3 ] / 2.0\n",
        "            w1, h1, w2, h2 = bb1[ ..., 2 ], bb1[ ..., 3 ], bb2[ ..., 3 ], bb2[ ..., 3 ]\n",
        "        else :\n",
        "            x1, y1, w1, h1 = bb1[ ..., 0 ], bb1[ ..., 1 ], bb1[ ..., 2 ], bb1[ ..., 3 ]\n",
        "            x2, y2, w2, h2 = bb2[ ..., 0 ], bb2[ ..., 1 ], bb2[ ..., 2 ], bb2[ ..., 3 ]\n",
        "\n",
        "    return (x1, y1, w1, h1), (x2, y2, w2, h2)\n",
        "\n",
        "    return (x1, y1, w1, h1), (x2, y2, w2, h2)\n",
        "\n",
        "\n",
        "@tf.function\n",
        "def O( bb1: tf.Tensor, bb2: tf.Tensor, is_yolo_format = True, is_class_first = False ):\n",
        "    \"\"\"\n",
        "    Check if two bounding boxes overlap.\n",
        "\n",
        "    Parameters:\n",
        "        bb1 (tensor): The coordinates of the first bounding box.\n",
        "        bb2 (tensor): The coordinates of the second bounding box.\n",
        "        is_class_first (bool, optional): If True, assumes the class is the first element in each bounding box. Default is False.\n",
        "        is_yolo_format (bool, optional): If True, assumes the bounding boxes are in YOLO format. Default is False.\n",
        "\n",
        "    Returns:\n",
        "        bool: True if the bounding boxes overlap, False otherwise.\n",
        "\n",
        "    Example:\n",
        "        bb1 = tf.constant( [ 0.3, 0.3, 0.2, 0.2 ] )\n",
        "        bb2 = tf.constant( [ 0.3, 0.3, 0.1, 0.1 ] )\n",
        "\n",
        "        print( 'Check for O (True): ', O( bbs = (bb1, bb2), is_yolo_format = True, is_class_first = False ) )\n",
        "    \"\"\"\n",
        "    (x1, y1, w1, h1), (x2, y2, w2, h2) = translate_bbs( bb1, bb2, is_yolo_format = is_yolo_format, is_class_first = is_class_first )\n",
        "\n",
        "    condition1 = tf.logical_and( tf.greater_equal( x2, x1 ), tf.less_equal( x2 + w2, x1 + w1 ) )\n",
        "    condition2 = tf.logical_and( tf.greater( y2, y1 ), tf.less( y2 + h2, y1 + h1 ) )\n",
        "\n",
        "    return tf.logical_or( condition1, condition2 )\n",
        "\n",
        "\n",
        "@tf.function\n",
        "def PO( bb1: tf.Tensor, bb2: tf.Tensor, is_yolo_format = True, is_class_first = False ):\n",
        "    \"\"\"\n",
        "    Check if two bounding boxes partially overlap.\n",
        "\n",
        "    Parameters:\n",
        "        bb1 (tensor): The coordinates of the first bounding box.\n",
        "        bb2 (tensor): The coordinates of the second bounding box.\n",
        "        is_class_first (bool, optional): If True, assumes the class is the first element in each bounding box. Default is False.\n",
        "        is_yolo_format (bool, optional): If True, assumes the bounding boxes are in YOLO format. Default is False.\n",
        "\n",
        "    Returns:\n",
        "        bool: True if the bounding boxes partially overlap, False otherwise.\n",
        "\n",
        "    Note: (x1,y1) and (x2,y2) ordered pair ar located in lowest-left corner of the bounding box\n",
        "    \"\"\"\n",
        "    (x1, y1, w1, h1), (x2, y2, w2, h2) = translate_bbs( bb1, bb2, is_yolo_format = is_yolo_format, is_class_first = is_class_first )\n",
        "    '''\n",
        "    mesmo que:\n",
        "                # PO 1\n",
        "            ((x2 < x1) and ((x2 + w2) > x1) and\n",
        "             (((y2 < y1) and ((y2 + h2) > y1)) or ((y2 + h2) > (y1 + h1))))\n",
        "\n",
        "            # PO 2\n",
        "            or (((x2 < x1) and ((x2 + w2) > x1) and ((x2 + w2) < (x1 + w1))) and\n",
        "                ((((y2 + h2) > (y1 + h1)) and (y2 < (y1 + h1))) or ((y2 < y1) and ((y2 + h2) > y1))))\n",
        "\n",
        "            # PO 3\n",
        "            or (((x2 > x1) and ((x2 + h2) < (x1 + h1))) and\n",
        "                ((((y2 + h2) > (y1 + h1)) and (y2 < (y1 + h1))) or ((y2 < y1) and ((y2 + h2) > y1))))\n",
        "\n",
        "            # PO 4\n",
        "            or (((x2 > x1) and (x2 < (x1 + w1)) and ((x2 + w2) > (x1 + w1))) and\n",
        "                ((((y2 + h2) < (y1 + h1)) and ((y2 + h2) > y1)) or ((y2 > y1) and (y2 < (y1 + h1)))))\n",
        "    Essas condições são para elementos iteraveis (list), mas aqui é adaptado para uso em tf.Tensor()\n",
        "    '''\n",
        "\n",
        "    # Condition 1\n",
        "    condition1 = tf.logical_and(\n",
        "            tf.logical_and( x2 < x1, x2 + w2 > x1 ),\n",
        "            tf.logical_or(\n",
        "                    tf.logical_and( y2 < y1, y2 + h2 > y1 ),\n",
        "                    y2 + h2 > y1 + h1\n",
        "            )\n",
        "    )\n",
        "\n",
        "    # Condition 2\n",
        "    condition2 = tf.logical_and(\n",
        "            tf.logical_and( x2 < x1, x2 + w2 > x1 ),\n",
        "            tf.logical_and(\n",
        "                    x2 + w2 < x1 + w1,\n",
        "                    tf.logical_or(\n",
        "                            tf.logical_and( y2 + h2 > y1 + h1, y2 < y1 + h1 ),\n",
        "                            tf.logical_and( y2 < y1, y2 + h2 > y1 )\n",
        "                    )\n",
        "            )\n",
        "    )\n",
        "\n",
        "    # Condition 3\n",
        "    condition3 = tf.logical_and(\n",
        "            tf.logical_and( x2 > x1, x2 + h2 < x1 + h1 ),\n",
        "            tf.logical_or(\n",
        "                    tf.logical_and( y2 + h2 > y1 + h1, y2 < y1 + h1 ),\n",
        "                    tf.logical_and( y2 < y1, y2 + h2 > y1 )\n",
        "            )\n",
        "    )\n",
        "\n",
        "    # Condition 4\n",
        "    condition4 = tf.logical_and(\n",
        "            tf.logical_and( x2 > x1, tf.logical_and( x2 < x1 + w1, x2 + w2 > x1 + w1 ) ),\n",
        "            tf.logical_or(\n",
        "                    tf.logical_and( y2 + h2 < y1 + h1, y2 + h2 > y1 ),\n",
        "                    tf.logical_and( y2 > y1, tf.logical_and( y2 < y1 + h1, y2 < y1 + h1 ) )\n",
        "            )\n",
        "    )\n",
        "\n",
        "    # Final condition, combining all the above conditions with logical OR\n",
        "    final_condition = tf.logical_or(\n",
        "            tf.logical_or( condition1, condition2 ),\n",
        "            tf.logical_or( condition3, condition4 )\n",
        "    )\n",
        "    return final_condition\n",
        "\n",
        "\n",
        "@tf.function\n",
        "def D( bb1: tf.Tensor, bb2: tf.Tensor, is_yolo_format = True, is_class_first = False ):\n",
        "    \"\"\"\n",
        "    Check if two bounding boxes are disjoint.\n",
        "\n",
        "    Parameters:\n",
        "        bb1 (tuple): The coordinates of the first bounding box in the format (x1, y1, w1, h1).\n",
        "        bb2 (tuple): The coordinates of the second bounding box in the format (x2, y2, w2, h2).\n",
        "        is_class_first (bool, optional): If True, assumes the class is the first element in each bounding box. Default is False.\n",
        "        is_yolo_format (bool, optional): If True, assumes the bounding boxes are in YOLO format. Default is False.\n",
        "\n",
        "    Returns:\n",
        "        bool: True if the bounding boxes are disjoint, False otherwise.\n",
        "    \"\"\"\n",
        "    (x1, y1, w1, h1), (x2, y2, w2, h2) = translate_bbs( bb1, bb2, is_yolo_format = is_yolo_format, is_class_first = is_class_first )\n",
        "\n",
        "    condition1 = tf.less( x2 + w2, x1 )\n",
        "    condition2 = tf.greater( x2, x1 + w1 )\n",
        "    condition3 = tf.greater( y2, y1 + h1 )\n",
        "    condition4 = tf.less( y2 + h2, y1 )\n",
        "\n",
        "    bool_tensor = tf.logical_or( tf.logical_or( condition1, condition2 ),\n",
        "                                 tf.logical_or( condition3, condition4 ) )\n",
        "\n",
        "    return bool_tensor\n",
        "\n",
        "\n",
        "import matplotlib.pyplot as plt\n",
        "\n",
        "\n",
        "def plot_bounding_boxes( bb1: tf.Tensor, bb2: tf.Tensor, is_class_first = False,\n",
        "                         is_yolo_format = False ):\n",
        "    \"\"\"\n",
        "    Plot two bounding boxes on a 2D plane.\n",
        "\n",
        "    Parameters:\n",
        "        bb1 (tensor): The coordinates of the first bounding box.\n",
        "        bb2 (tensor): The coordinates of the second bounding box.\n",
        "        is_class_first (bool, optional): If True, assumes the class is the first element in each bounding box. Default is False.\n",
        "        is_yolo_format (bool, optional): If True, assumes the bounding boxes are in YOLO format. Default is False.\n",
        "\n",
        "    Example:\n",
        "        bb1 = tf.constant([0.3, 0.3, 0.2, 0.2])\n",
        "        bb2 = tf.constant([0.3, 0.3, 0.1, 0.1])\n",
        "        plot_bounding_boxes(bb1, bb2, is_class_first=True, is_yolo_format=True)\n",
        "    \"\"\"\n",
        "    (x1, y1, w1, h1), (x2, y2, w2, h2) = translate_bbs( bb1, bb2, is_class_first, is_yolo_format )\n",
        "\n",
        "    plt.figure( )\n",
        "    plt.plot( [ x1 - w1 / 2, x1 + w1 / 2, x1 + w1 / 2, x1 - w1 / 2, x1 - w1 / 2 ],\n",
        "              [ y1 - h1 / 2, y1 - h1 / 2, y1 + h1 / 2, y1 + h1 / 2, y1 - h1 / 2 ],\n",
        "              'r' )\n",
        "\n",
        "    plt.plot( [ x2 - w2 / 2, x2 + w2 / 2, x2 + w2 / 2, x2 - w2 / 2, x2 - w2 / 2 ],\n",
        "              [ y2 - h2 / 2, y2 - h2 / 2, y2 + h2 / 2, y2 + h2 / 2, y2 - h2 / 2 ],\n",
        "              'b' )\n",
        "\n",
        "    plt.xlim( 0, 1 )\n",
        "    plt.ylim( 0, 1 )\n",
        "    plt.gca( ).invert_yaxis( )\n",
        "    plt.show( )"
      ]
    },
    {
      "cell_type": "markdown",
      "metadata": {
        "id": "hNd1NIlxPfgM"
      },
      "source": [
        "generate_equally_spaced_bb.py"
      ]
    },
    {
      "cell_type": "code",
      "execution_count": 385,
      "metadata": {
        "id": "Q1DqbSnPPbpX"
      },
      "outputs": [],
      "source": [
        "import numpy as np\n",
        "import matplotlib.pyplot as plt\n",
        "import matplotlib.patches as patches\n",
        "import math\n",
        "import string\n",
        "\n",
        "def get_rectangle(bb, edcolor='r'):\n",
        "    \"\"\"\n",
        "    Create a rectangle patch for a given bounding box.\n",
        "\n",
        "    This function creates and returns a rectangle patch object using the specified bounding box coordinates. The rectangle\n",
        "    is defined by the center point (bb[0], bb[1]), width bb[2], and height bb[3]. The edge color of the rectangle can be\n",
        "    customized using the optional 'edcolor' parameter.\n",
        "\n",
        "    Parameters:\n",
        "    bb (tuple): The bounding box coordinates in the format (center_x, center_y, width, height).\n",
        "    edcolor (str, optional): The edge color of the rectangle (default is 'r').\n",
        "\n",
        "    Returns:\n",
        "    patches.Rectangle: A rectangle patch object representing the bounding box.\n",
        "\n",
        "    Rectangle(xy=(0, 0), width=100, height=100, angle=0)\n",
        "\n",
        "    Note:\n",
        "    - The function assumes the bounding box coordinates are in the form (center_x, center_y, width, height).\n",
        "    - The default edge color is 'r' (red).\n",
        "    - The face color of the rectangle is set to 'none', resulting in an empty rectangle.\n",
        "    \"\"\"\n",
        "    return patches.Rectangle((bb[0] - bb[2] / 2, bb[1] - bb[3] / 2), bb[2], bb[3], linewidth=2, edgecolor=edcolor,\n",
        "                             facecolor='none')\n",
        "\n",
        "\n",
        "def get_corners_coord(bb):\n",
        "    x0 = bb[0] - bb[-2] / 2\n",
        "    y0 = bb[1] - bb[-1] / 2\n",
        "    x1 = bb[0] + bb[-2] / 2\n",
        "    y1 = bb[1] + bb[-1] / 2\n",
        "\n",
        "    top_left = (x0, y0)\n",
        "    top_right = (x1, y0)\n",
        "    bottom_left = (x0, y1)\n",
        "    bottom_right = (x1, y1)\n",
        "\n",
        "    return [top_left, top_right, bottom_left, bottom_right]\n",
        "\n",
        "\n",
        "def get_interested_angles(bb):\n",
        "    \"\"\"\n",
        "    Get the list of interested angles for a given bounding box.\n",
        "\n",
        "    This function calculates and returns a list of angles of interest for a given bounding box. The angles include\n",
        "    0.0, 90.0, -90.0, and 180.0, representing horizontal, vertical, and diagonal orientations.\n",
        "\n",
        "    Parameters:\n",
        "    bb (tuple): The bounding box coordinates in the format (center_x, center_y, width, height).\n",
        "\n",
        "    Returns:\n",
        "    list: A list of angles representing the interested angles for the bounding box.\n",
        "\n",
        "    Example:\n",
        "    # >>> bounding_box = (50, 50, 100, 100)\n",
        "    # >>> angles = get_interested_angles(bounding_box)\n",
        "    # >>> print(angles)\n",
        "    [0.0, 90.0, -90.0, 180.0, 45.0, -45.0, 135.0, -135.0]\n",
        "\n",
        "    Note:\n",
        "    - The function assumes the bounding box coordinates are in the form (center_x, center_y, width, height).\n",
        "    - The additional diagonal angles are calculated based on the corners of the bounding box.\n",
        "    \"\"\"\n",
        "    angles = [0.0, 90.0, -90.0, 180.0]\n",
        "    corners = get_corners_coord(bb)\n",
        "\n",
        "    boxes = [(coord[0], coord[1], 0.1 * bb[2], 0.1 * bb[3]) for coord in corners]\n",
        "    diag_angles = [calculate_angle(box, bb) for box in boxes]\n",
        "\n",
        "    # print('diag_angles : ', diag_angles)\n",
        "\n",
        "    return angles + diag_angles\n",
        "\n",
        "\n",
        "def  generate_equally_spaced_points(bounding_box):\n",
        "    \"\"\"\n",
        "    Generate equally spaced points within a bounding box in clockwise manner.\n",
        "\n",
        "    This function calculates and generates equally spaced points within a given bounding box. The points are distributed\n",
        "    based on different angles of interest within the box.\n",
        "\n",
        "    Parameters:\n",
        "    bounding_box (tuple): The bounding box coordinates in the format (center_x, center_y, width, height).\n",
        "\n",
        "    Returns:\n",
        "    list: A list of (x, y) coordinates representing the equally spaced points within the bounding box.\n",
        "    \"\"\"\n",
        "    center_x, center_y, width, height = bounding_box\n",
        "    points = []\n",
        "\n",
        "    # Calculate spacing between points\n",
        "    spacing_horizontal = width / 8\n",
        "    spacing_vertical = height / 8\n",
        "\n",
        "    diagonal_length = math.sqrt(width ** 2 + height ** 2)\n",
        "    spacing_diagonal = diagonal_length / 8\n",
        "\n",
        "    angles = get_interested_angles(bounding_box)\n",
        "    angles.sort()\n",
        "\n",
        "    pos_angles = [x for x in angles if x >= 0.0]\n",
        "    neg_angles = [x for x in angles if x < 0.0]\n",
        "\n",
        "    # ajustar angulos positivos para ordem crescente\n",
        "    pos_angles.sort()\n",
        "    # ajustar angulos negativos para ordem crescente\n",
        "    neg_angles.sort()\n",
        "\n",
        "    angles = pos_angles + neg_angles\n",
        "    # para cada bb das direções, contando apartir do centro (1, 2 , 3 bb)\n",
        "    for i in range(1, 4):\n",
        "\n",
        "        # percorrendo os angulos de forma horária (pois está organizado : 0* -> 90 -> 180* e 180* -> -90 -> 0*)\n",
        "\n",
        "        for angle in angles:\n",
        "\n",
        "            x_signal = 1.0 if angle > 90.0 or angle < -90.0 else -1.0\n",
        "            y_signal = 1.0 if angle > 0.0 else -1.0\n",
        "\n",
        "            # horizontal\n",
        "            if angle in [0.0, 180.0]:\n",
        "                x = center_x + (i * spacing_horizontal * x_signal)\n",
        "                y = center_y\n",
        "\n",
        "            # diagonal\n",
        "            if angle not in [0.0, 90.0, -90.0, 180.0]:\n",
        "                x = center_x - i * spacing_diagonal * math.cos(math.radians(angle))\n",
        "                y = center_y - i * spacing_diagonal * math.sin(math.radians(angle))\n",
        "\n",
        "            # vertical\n",
        "            if angle in [90.0, -90.0]:\n",
        "                x = center_x\n",
        "                y = center_y - (i * spacing_vertical * y_signal)\n",
        "\n",
        "            points.append((x, y))\n",
        "\n",
        "\n",
        "    return points\n",
        "\n",
        "\n",
        "def plot_comparisons_diagonals(bb, boxes):\n",
        "    \"\"\"\n",
        "    Plot comparisons of bounding boxes in relation to a main bounding box.\n",
        "\n",
        "    This function generates a matplotlib figure with four subplots to visualize the comparisons of bounding boxes with\n",
        "    respect to a main bounding box. The center_box and the main bounding box are plotted on each subplot for comparison.\n",
        "\n",
        "    Parameters:\n",
        "    bb (tuple): The bounding box coordinates of the main box in the format (x, y, width, height).\n",
        "    boxes (list): A list of bounding box coordinates in the format [(x1, y1, width1, height1), (x2, y2, width2, height2), ...].\n",
        "\n",
        "    Returns:\n",
        "    None\n",
        "\n",
        "    Example:\n",
        "    bb = (10, 20, 50, 30)\n",
        "    boxes = [(15, 25, 40, 20), (20, 30, 35, 25), (25, 35, 30, 30)]\n",
        "    plot_comparisons_diagonals(bb, boxes)\n",
        "    \"\"\"\n",
        "    # fig, axes = plt.subplots(nrows=2, ncols=2)\n",
        "    fig, ((ax1, ax2), (ax3, ax4)) = plt.subplots(2, 2)\n",
        "\n",
        "    # inSideLeftAltAbove, inSideLeftAltBelow, inSideRightAltAbove, inSideRightAltBelow\n",
        "    name = list(string.ascii_uppercase)[:len(boxes)]\n",
        "\n",
        "    # Plot center box and bb for comparision\n",
        "\n",
        "    center_box = boxes[0]\n",
        "\n",
        "    for ax in [ax1, ax2, ax3, ax4]:\n",
        "        ax.add_patch(get_rectangle(bb, 'r'))\n",
        "        ax.add_patch(get_rectangle(center_box, 'g'))\n",
        "        ax.text(center_box[0], center_box[1], f'box : {name[0]}', ha='center', va='center', fontsize=12, color='blue')\n",
        "        ax.invert_yaxis()\n",
        "        ax.autoscale()\n",
        "\n",
        "    # Add rectangles using patches.Rectangle()\n",
        "\n",
        "    rect_inSideLeftAbove = get_rectangle(boxes[2], 'b')\n",
        "    ax1.add_patch(rect_inSideLeftAbove)\n",
        "    ax1.set_title(f'inSideLeftAltAbove : {inSideLeftAltAbove(boxes[2], center_box)}')\n",
        "    ax1.text(boxes[2][0], boxes[2][1], f'box : {name[2]}', ha='center', va='center', fontsize=12, color='blue')\n",
        "\n",
        "    rect_inSideRightAltAbove = get_rectangle(boxes[4], 'b')\n",
        "    ax2.add_patch(rect_inSideRightAltAbove)\n",
        "    ax2.set_title(f'inSideRightAltAbove : {inSideRightAltAbove(boxes[4], center_box)}')\n",
        "    ax2.text(boxes[4][0], boxes[4][1], f'box : {name[4]}', ha='center', va='center', fontsize=12, color='blue')\n",
        "\n",
        "    rect_inSideRightAltBelow = get_rectangle(boxes[6], 'b')\n",
        "    ax3.add_patch(rect_inSideRightAltBelow)\n",
        "    ax3.set_title(f'inSideRightAltBelow : {inSideRightAltBelow(boxes[6], center_box)}')\n",
        "    ax3.text(boxes[6][0], boxes[6][1], f'box : {name[6]}', ha='center', va='center', fontsize=12, color='blue')\n",
        "\n",
        "    rect_inSideLeftAltBelow = get_rectangle(boxes[8], 'b')\n",
        "    ax4.add_patch(rect_inSideLeftAltBelow)\n",
        "    ax4.set_title(f'inSideLeftAltBelow : {inSideLeftAltBelow(boxes[8], center_box)}')\n",
        "    ax4.text(boxes[8][0], boxes[8][1], f'box : {name[8]}', ha='center', va='center', fontsize=15, color='blue')\n",
        "\n",
        "    fig.tight_layout()\n",
        "    plt.show()\n",
        "\n",
        "\n",
        "def generate_eq_spaced_bbs_in_(bb, dictionary_with_letters=True):\n",
        "    \"\"\"\n",
        "    Function to generate bounding boxes inside of a bounding box 'bb' in clockwise direction.\n",
        "\n",
        "    Parameters:\n",
        "    bb (list): list of bounding boxes in YOLO Format ([x_center, y_center, width, height]).\n",
        "    dictionary_with_letters (bool): if boxes will be referred as Alphabetic letter ( A to Z ).\n",
        "\n",
        "    Returns:\n",
        "    bbs (list) : list of resulting bounding boxes\n",
        "\n",
        "    The first element of the 'boxes' list is considered as the center_box. The subsequent bounding boxes are arranged\n",
        "    in a clockwise manner starting from 0 degrees and progressing to 90 degrees, 180 degrees, -90 degrees, and the\n",
        "    diagonal angle before 0 degrees.\n",
        "\n",
        "    \"\"\"\n",
        "\n",
        "    # print(f'x : {bb[0]}, y : {bb[1]}')\n",
        "\n",
        "    angles = get_interested_angles(bb)\n",
        "    angles.sort()\n",
        "\n",
        "    ## get boxes\n",
        "    center_coord = generate_equally_spaced_points(bb)\n",
        "    # print('center coordinates : ', center_coord)\n",
        "\n",
        "    boxes = [[coord[0], coord[1], 0.1 * bb[2], 0.1 * bb[3]] for coord in center_coord]\n",
        "\n",
        "    center_box = [bb[0], bb[1], 0.1 * bb[2], 0.1 * bb[3]]\n",
        "\n",
        "    bbs = [center_box] + boxes\n",
        "\n",
        "\n",
        "    if dictionary_with_letters:\n",
        "        letters = list(string.ascii_uppercase)[:len(bbs) + 1]\n",
        "        result_bbs = {letter: box for letter, box in zip(letters, bbs)}\n",
        "        greater_box = [bb[0], bb[1], 2 * (result_bbs['N'][0] - bb[0]), 2 * (result_bbs['P'][1] - bb[1])]\n",
        "\n",
        "        result_bbs[letters[-1]] = greater_box\n",
        "\n",
        "        return result_bbs\n",
        "    else:\n",
        "        return bbs\n",
        "\n",
        "\n",
        "def plot_all_bb_with_names(bb, boxes, name=list(string.ascii_uppercase)):\n",
        "    \"\"\"\n",
        "    Plot bounding boxes with corresponding names on a matplotlib figure.\n",
        "\n",
        "    Parameters:\n",
        "    bb (tuple): The bounding box coordinates of the main box (x, y, width, height).\n",
        "    boxes (list): A list of bounding box coordinates (x, y, width, height).\n",
        "    name (list, optional): A list of names corresponding to each box. Default is a list of uppercase letters.\n",
        "\n",
        "    Returns:\n",
        "    None\n",
        "\n",
        "    Example:\n",
        "    bb = (10, 20, 50, 30)\n",
        "    boxes = [(15, 25, 40, 20), (20, 30, 35, 25), (25, 35, 30, 30)]\n",
        "    plot_all_bb_with_names(bb, boxes)\n",
        "    \"\"\"\n",
        "    name = list(string.ascii_uppercase)[:len(boxes)]\n",
        "    print(f'len_boxes : {len(boxes)}, len_names : {len(name)},name : {name}')\n",
        "\n",
        "    fig, ax = plt.subplots(figsize = (30,10))\n",
        "    ax.add_patch(get_rectangle(bb))\n",
        "    ax.set_title('Boxes Generated')\n",
        "\n",
        "    if isinstance(boxes, dict):\n",
        "        boxes_keys = list(boxes.keys())\n",
        "\n",
        "        for i in range(0, len(boxes)):\n",
        "\n",
        "            key_at_index = boxes_keys[i]\n",
        "            box = boxes[key_at_index]\n",
        "\n",
        "\n",
        "            if i == 0:\n",
        "                ed = 'orange'\n",
        "            elif (i % 2 == 0 and not (i == '0') and not (i == len(boxes) - 1)):\n",
        "                ed = 'red'\n",
        "            elif i == len( boxes ) - 1 :\n",
        "                ed = 'green'\n",
        "            else:\n",
        "                ed = 'magenta'\n",
        "\n",
        "            ax.add_patch(get_rectangle(box, edcolor=ed))\n",
        "            ax.text(box[0] + 0.3 * box[2], box[1] - 0.55 * box[3], f'box : {name[i]}', ha='center', va='center', fontsize=12,\n",
        "                    color='blue')\n",
        "    else:\n",
        "      for i in range(0, len(boxes)):\n",
        "        if i == 0:\n",
        "            ed = 'orange'\n",
        "        elif (i % 2 == 0 and not (i == '0') and not (i == len(boxes) - 1)):\n",
        "            ed = 'red'\n",
        "        elif i == len( boxes ) - 1 :\n",
        "            ed = 'green'\n",
        "        else:\n",
        "            ed = 'magenta'\n",
        "\n",
        "        ax.add_patch(get_rectangle(boxes[i], edcolor=ed))\n",
        "        ax.text(boxes[i][0], boxes[i][1] - 0.10, f'box : {name[i]}', ha='center', va='center', fontsize=12,\n",
        "                color='blue')\n",
        "\n",
        "\n",
        "\n",
        "    ax.legend(handles=[patches.Patch(color='red', label='diagonals'),\n",
        "                       patches.Patch(color='magenta', label='horizontal and vertical'),\n",
        "                       patches.Patch(color='orange', label='center_box'),\n",
        "                       patches.Patch(color='green', label='greater_box')])\n",
        "    ax.invert_yaxis()\n",
        "    fig.tight_layout()\n",
        "    plt.show()\n"
      ]
    },
    {
      "cell_type": "markdown",
      "metadata": {
        "id": "O16LkLNnDFmq"
      },
      "source": [
        "# Códigos Convertidos para Torch (apenas para testes)"
      ]
    },
    {
      "cell_type": "markdown",
      "metadata": {
        "id": "9gyqwsbGyvi2"
      },
      "source": [
        "## translate_bbs"
      ]
    },
    {
      "cell_type": "code",
      "execution_count": 386,
      "metadata": {
        "id": "IPstp72ByFm0"
      },
      "outputs": [],
      "source": [
        "def translate_bbs( bb1: torch.tensor, bb2: torch.tensor, is_class_first = False,is_yolo_format = False ):\n",
        "    \"\"\"\n",
        "    Translate bounding box coordinates based on specified conditions.\n",
        "\n",
        "    Parameters:\n",
        "        bb1 (tensor): The coordinates of the first bounding box.\n",
        "        bb2 (tensor): The coordinates of the second bounding box.\n",
        "        is_class_first (bool, optional): If True, assumes the class is the first element in each bounding box. Default is False.\n",
        "        is_yolo_format (bool, optional): If True, assumes the bounding boxes are in YOLO format. Default is False.\n",
        "\n",
        "    Returns:\n",
        "        tuple: Translated coordinates of the first and second bounding boxes in the format (x, y, w, h).\n",
        "\n",
        "    Example:\n",
        "        bb1 = tf.constant([0.3, 0.3, 0.2, 0.2])\n",
        "        bb2 = tf.constant([0.3, 0.3, 0.1, 0.1])\n",
        "        translated_bb1, translated_bb2 = translate_bbs(bb1, bb2, is_class_first=True, is_yolo_format=True)\n",
        "    \"\"\"\n",
        "    if is_class_first :\n",
        "        if is_yolo_format :\n",
        "            x1, y1 = bb1[ ..., 1 ] - bb1[ ..., 3 ] / 2.0, bb1[ ..., 2 ] - bb1[ ..., 4 ] / 2.0\n",
        "            x2, y2 = bb2[ ..., 1 ] - bb2[ ..., 3 ] / 2.0, bb2[ ..., 2 ] - bb2[ ..., 4 ] / 2.0\n",
        "            w1, h1, w2, h2 = bb1[ ..., 3 ], bb1[ ..., 4 ], bb2[ ..., 3 ], bb2[ ..., 4 ]\n",
        "        else :\n",
        "            x1, y1, w1, h1 = bb1[ ..., 1 ], bb1[ ..., 2 ], bb1[ ..., 3 ], bb1[ ..., 4 ]\n",
        "            x2, y2, w2, h2 = bb2[ ..., 1 ], bb2[ ..., 2 ], bb2[ ..., 3 ], bb2[ ..., 4 ]\n",
        "\n",
        "    else :\n",
        "        if is_yolo_format :\n",
        "            x1, y1 = bb1[ ..., 0 ] - bb1[ ..., 2 ] / 2.0, bb1[ ..., 1 ] - bb1[ ..., 3 ] / 2.0\n",
        "            x2, y2 = bb2[ ..., 0 ] - bb2[ ..., 2 ] / 2.0, bb2[ ..., 1 ] - bb2[ ..., 3 ] / 2.0\n",
        "            w1, h1, w2, h2 = bb1[ ..., 2 ], bb1[ ..., 3 ], bb2[ ..., 3 ], bb2[ ..., 3 ]\n",
        "        else :\n",
        "            x1, y1, w1, h1 = bb1[ ..., 0 ], bb1[ ..., 1 ], bb1[ ..., 2 ], bb1[ ..., 3 ]\n",
        "            x2, y2, w2, h2 = bb2[ ..., 0 ], bb2[ ..., 1 ], bb2[ ..., 2 ], bb2[ ..., 3 ]\n",
        "\n",
        "    return (x1, y1, w1, h1), (x2, y2, w2, h2)\n",
        "\n",
        "    return (x1, y1, w1, h1), (x2, y2, w2, h2)"
      ]
    },
    {
      "cell_type": "markdown",
      "metadata": {
        "id": "vpNKEEpnyykR"
      },
      "source": [
        "## O"
      ]
    },
    {
      "cell_type": "code",
      "execution_count": 387,
      "metadata": {
        "id": "s0-aCiZQyx7F"
      },
      "outputs": [],
      "source": [
        "def O(bb1: torch.Tensor, bb2: torch.Tensor, is_yolo_format=True, is_class_first=False):\n",
        "    (x1, y1, w1, h1), (x2, y2, w2, h2) = translate_bbs(bb1, bb2, is_yolo_format=is_yolo_format, is_class_first=is_class_first)\n",
        "\n",
        "    condition1 = torch.logical_and(torch.ge(x2, x1), torch.le(x2 + w2, x1 + w1))\n",
        "    condition2 = torch.logical_and(torch.gt(y2, y1), torch.lt(y2 + h2, y1 + h1))\n",
        "\n",
        "    return torch.logical_or(condition1, condition2)\n"
      ]
    },
    {
      "cell_type": "markdown",
      "metadata": {
        "id": "mlDNzNS33azk"
      },
      "source": [
        "## D"
      ]
    },
    {
      "cell_type": "code",
      "execution_count": 388,
      "metadata": {
        "id": "jExbbRrO3aMu"
      },
      "outputs": [],
      "source": [
        "def D(bb1: torch.Tensor, bb2: torch.Tensor, is_yolo_format=True, is_class_first=False):\n",
        "    (x1, y1, w1, h1), (x2, y2, w2, h2) = translate_bbs(bb1, bb2, is_yolo_format=is_yolo_format, is_class_first=is_class_first)\n",
        "\n",
        "    condition1 = torch.lt(x2 + w2, x1)\n",
        "    condition2 = torch.gt(x2, x1 + w1)\n",
        "    condition3 = torch.gt(y2, y1 + h1)\n",
        "    condition4 = torch.lt(y2 + h2, y1)\n",
        "\n",
        "    bool_tensor = torch.logical_or(torch.logical_or(condition1, condition2),\n",
        "                                   torch.logical_or(condition3, condition4))\n",
        "\n",
        "    return bool_tensor\n"
      ]
    },
    {
      "cell_type": "markdown",
      "metadata": {
        "id": "w6qUaxkRwWqB"
      },
      "source": [
        "## PO"
      ]
    },
    {
      "cell_type": "code",
      "execution_count": 389,
      "metadata": {
        "id": "CWcR4-M_wWW7"
      },
      "outputs": [],
      "source": [
        "def PO(bb1, bb2, is_yolo_format=True, is_class_first=False):\n",
        "    (x1, y1, w1, h1), (x2, y2, w2, h2) = translate_bbs(bb1, bb2, is_yolo_format=is_yolo_format, is_class_first=is_class_first)\n",
        "\n",
        "    # Condition 1\n",
        "    condition1 = torch.logical_and(\n",
        "        torch.logical_and(x2 < x1, x2 + w2 > x1),\n",
        "        torch.logical_or(\n",
        "            torch.logical_and(y2 < y1, y2 + h2 > y1),\n",
        "            y2 + h2 > y1 + h1\n",
        "        )\n",
        "    )\n",
        "\n",
        "    # Condition 2\n",
        "    condition2 = torch.logical_and(\n",
        "        torch.logical_and(x2 < x1, x2 + w2 > x1),\n",
        "        torch.logical_and(\n",
        "            x2 + w2 < x1 + w1,\n",
        "            torch.logical_or(\n",
        "                torch.logical_and(y2 + h2 > y1 + h1, y2 < y1 + h1),\n",
        "                torch.logical_and(y2 < y1, y2 + h2 > y1)\n",
        "            )\n",
        "        )\n",
        "    )\n",
        "\n",
        "    # Condition 3\n",
        "    condition3 = torch.logical_and(\n",
        "        torch.logical_and(x2 > x1, x2 + h2 < x1 + h1),\n",
        "        torch.logical_or(\n",
        "            torch.logical_and(y2 + h2 > y1 + h1, y2 < y1 + h1),\n",
        "            torch.logical_and(y2 < y1, y2 + h2 > y1)\n",
        "        )\n",
        "    )\n",
        "\n",
        "    # Condition 4\n",
        "    condition4 = torch.logical_and(\n",
        "        torch.logical_and(x2 > x1, torch.logical_and(x2 < x1 + w1, x2 + w2 > x1 + w1)),\n",
        "        torch.logical_or(\n",
        "            torch.logical_and(y2 + h2 < y1 + h1, y2 + h2 > y1),\n",
        "            torch.logical_and(y2 > y1, torch.logical_and(y2 < y1 + h1, y2 < y1 + h1))\n",
        "        )\n",
        "    )\n",
        "\n",
        "    # Final condition, combining all the above conditions with logical OR\n",
        "    final_condition = torch.logical_or(\n",
        "        torch.logical_or(condition1, condition2),\n",
        "        torch.logical_or(condition3, condition4)\n",
        "    )\n",
        "    return final_condition\n"
      ]
    },
    {
      "cell_type": "markdown",
      "metadata": {
        "id": "TXQPBw7h3bib"
      },
      "source": [
        "## Testes"
      ]
    },
    {
      "cell_type": "code",
      "execution_count": 390,
      "metadata": {
        "colab": {
          "base_uri": "https://localhost:8080/"
        },
        "id": "GvGWrfqGxtSH",
        "outputId": "81ca7f68-7e6d-4997-b679-705da9cded89"
      },
      "outputs": [
        {
          "output_type": "execute_result",
          "data": {
            "text/plain": [
              "((tensor(0.3000), tensor(0.4000), tensor(0.2000), tensor(0.2000)),\n",
              " (tensor(0.5000), tensor(0.6000), tensor(0.4000), tensor(0.4000)))"
            ]
          },
          "metadata": {},
          "execution_count": 390
        }
      ],
      "source": [
        "bb1 = (torch.tensor([0.3, 0.4, 0.2, 0.2])) # VERMELHO\n",
        "bb2 = (torch.tensor([0.5, 0.6, 0.4, 0.4])) # AZUL\n",
        "\n",
        "(translate_bbs(bb1, bb2))"
      ]
    },
    {
      "cell_type": "code",
      "execution_count": 391,
      "metadata": {
        "colab": {
          "base_uri": "https://localhost:8080/",
          "height": 0
        },
        "id": "tRfpudohyhh7",
        "outputId": "f9c2fd9e-40da-4699-9854-e0c68549034b"
      },
      "outputs": [
        {
          "output_type": "stream",
          "name": "stdout",
          "text": [
            "tensor(False)\n"
          ]
        },
        {
          "output_type": "display_data",
          "data": {
            "text/plain": [
              "<Figure size 640x480 with 1 Axes>"
            ],
            "image/png": "[encoded data removed]"
          },
          "metadata": {}
        }
      ],
      "source": [
        "print(O(bb1,bb2))\n",
        "plot_bounding_boxes( bb1, bb2 )"
      ]
    },
    {
      "cell_type": "code",
      "execution_count": 392,
      "metadata": {
        "colab": {
          "base_uri": "https://localhost:8080/"
        },
        "id": "Z8P_WCZhmKGi",
        "outputId": "768e4f31-a1dc-4215-c00e-1e0671f520a0"
      },
      "outputs": [
        {
          "output_type": "execute_result",
          "data": {
            "text/plain": [
              "45.00000426886817"
            ]
          },
          "metadata": {},
          "execution_count": 392
        }
      ],
      "source": [
        "calculate_angle(bb1, bb2)"
      ]
    },
    {
      "cell_type": "code",
      "execution_count": 393,
      "metadata": {
        "colab": {
          "base_uri": "https://localhost:8080/",
          "height": 0
        },
        "id": "ojbMperpbycS",
        "outputId": "82b38db6-94c5-45fd-ee67-03d495ba994b"
      },
      "outputs": [
        {
          "output_type": "display_data",
          "data": {
            "text/plain": [
              "<Figure size 640x480 with 1 Axes>"
            ],
            "image/png": "[encoded data removed]"
          },
          "metadata": {}
        }
      ],
      "source": [
        "bb1 = torch.tensor([0.3, 0.4, 0.2, 0.2]) # vermelho\n",
        "bb2 = torch.tensor([0.5, 0.4, 0.2, 0.2]) # azul\n",
        "plot_bounding_boxes( bb1, bb2 )"
      ]
    },
    {
      "cell_type": "markdown",
      "metadata": {
        "id": "6uvnF8QwCx7g"
      },
      "source": [
        "# Funções do Odailson Modificadas por Nós"
      ]
    },
    {
      "cell_type": "code",
      "execution_count": 394,
      "metadata": {
        "id": "J0aOkYXGZphk"
      },
      "outputs": [],
      "source": [
        "def get_coordinates( bb ):\n",
        "    x0 = bb[ 0 ]\n",
        "    y0 = bb[ 1 ]\n",
        "    x1 = bb[ 0 ] + bb[ -2 ]\n",
        "    y1 = bb[ 1 ] + bb[ -1 ]\n",
        "    return [ x0, y0, x1, y1 ]"
      ]
    },
    {
      "cell_type": "code",
      "execution_count": 395,
      "metadata": {
        "id": "QEOWhfSDhcRM"
      },
      "outputs": [],
      "source": [
        "def calculate_angle( b1, b2 ):\n",
        "    print(b1,b2)\n",
        "    if(len(b1) > 1):\n",
        "      try:\n",
        "        aux1 = b1[0]\n",
        "        aux2 = b2[0]\n",
        "        c2 = np.array( (aux2[ 0 ], aux2[ 1 ]) )\n",
        "        c1 = np.array( (aux1[ 0 ], aux1[ 1 ]) )\n",
        "        x = c2 - c1\n",
        "\n",
        "        return np.angle( x[ 0 ] + 1j * x[ 1 ], deg = True )\n",
        "      except:\n",
        "        bb1 = b1\n",
        "        bb2 = b2\n",
        "        c2 = np.array( (bb2[ 0 ], bb2[ 1 ]) )\n",
        "        c1 = np.array( (bb1[ 0 ], bb1[ 1 ]) )\n",
        "        x = c2 - c1\n",
        "\n",
        "        return np.angle( x[ 0 ] + 1j * x[ 1 ], deg = True )\n",
        "    else:\n",
        "      return calculate_angle(b1[0],b2[0])\n"
      ]
    },
    {
      "cell_type": "code",
      "execution_count": 396,
      "metadata": {
        "id": "cX0uUUJ6wmGQ"
      },
      "outputs": [],
      "source": [
        "def plot_bounding_boxes( bb1: torch.Tensor, bb2: torch.Tensor, is_class_first = False,\n",
        "                         is_yolo_format = False ):\n",
        "    \"\"\"\n",
        "    Plot two bounding boxes on a 2D plane.\n",
        "\n",
        "    Parameters:\n",
        "        bb1 (tensor): The coordinates of the first bounding box.\n",
        "        bb2 (tensor): The coordinates of the second bounding box.\n",
        "        is_class_first (bool, optional): If True, assumes the class is the first element in each bounding box. Default is False.\n",
        "        is_yolo_format (bool, optional): If True, assumes the bounding boxes are in YOLO format. Default is False.\n",
        "\n",
        "    Example:\n",
        "        bb1 = tf.constant([0.3, 0.3, 0.2, 0.2])\n",
        "        bb2 = tf.constant([0.3, 0.3, 0.1, 0.1])\n",
        "        plot_bounding_boxes(bb1, bb2, is_class_first=True, is_yolo_format=True)\n",
        "    \"\"\"\n",
        "    (x1, y1, w1, h1), (x2, y2, w2, h2) = translate_bbs( bb1, bb2, is_class_first, is_yolo_format )\n",
        "\n",
        "    plt.figure( )\n",
        "    plt.plot( [ x1 - w1 / 2, x1 + w1 / 2, x1 + w1 / 2, x1 - w1 / 2, x1 - w1 / 2 ],\n",
        "              [ y1 - h1 / 2, y1 - h1 / 2, y1 + h1 / 2, y1 + h1 / 2, y1 - h1 / 2 ],\n",
        "              'r' )\n",
        "\n",
        "    plt.plot( [ x2 - w2 / 2, x2 + w2 / 2, x2 + w2 / 2, x2 - w2 / 2, x2 - w2 / 2 ],\n",
        "              [ y2 - h2 / 2, y2 - h2 / 2, y2 + h2 / 2, y2 + h2 / 2, y2 - h2 / 2 ],\n",
        "              'b' )\n",
        "\n",
        "    plt.xlim( 0, 1 )\n",
        "    plt.ylim( 0, 1 )\n",
        "    #plt.gca( ).invert_yaxis( )\n",
        "    plt.show( )"
      ]
    },
    {
      "cell_type": "markdown",
      "metadata": {
        "id": "_OKdoj1wZ0Re"
      },
      "source": [
        "# Nossa Implementação"
      ]
    },
    {
      "cell_type": "markdown",
      "metadata": {
        "id": "t7-PAeW0Z1GD"
      },
      "source": [
        "função para retornar os pontos de um bounding box"
      ]
    },
    {
      "cell_type": "code",
      "execution_count": 397,
      "metadata": {
        "id": "zaG2hsQ6f5XG"
      },
      "outputs": [],
      "source": [
        "def get_points(b1):\n",
        "  try:\n",
        "    bb1 = b1[0]\n",
        "    w = bb1[2] # width\n",
        "    h = bb1[3] # height\n",
        "  except:\n",
        "    bb1 = b1\n",
        "    w = bb1[2]\n",
        "    h = bb1[3]\n",
        "\n",
        "  # ----- calcular os pontos -----\n",
        "  x0 = bb1[0] - w/2\n",
        "  y0 = bb1[1] - h/2\n",
        "\n",
        "  x2 = bb1[0] + w/2\n",
        "  y2 = bb1[1] - h/2\n",
        "\n",
        "  x1 = bb1[0] + w/2\n",
        "  y1 = bb1[1] + h/2\n",
        "\n",
        "  x3 = bb1[0] - w/2\n",
        "  y3 = bb1[1] + h/2\n",
        "\n",
        "  return [(x0,y0), (x2,y2), (x1,y1),(x3,y3)]"
      ]
    },
    {
      "cell_type": "markdown",
      "metadata": {
        "id": "IUj1THseZ4Ea"
      },
      "source": [
        "função que verifica quais pontos de um bonding box estao dentro de outro bounding box"
      ]
    },
    {
      "cell_type": "code",
      "execution_count": 398,
      "metadata": {
        "id": "hIvPO62ThdAq"
      },
      "outputs": [],
      "source": [
        "def isPointInside(p1, bb: torch.Tensor):\n",
        "  bb_points = get_points(bb) # pega os pontos do bounding box\n",
        "\n",
        "  # ---- extrai os valores de minimo e maximo do x e y -----\n",
        "  xmin = bb_points[0][0]\n",
        "  xmax = bb_points[1][0]\n",
        "  ymin = bb_points[0][1]\n",
        "  ymax = bb_points[2][1]\n",
        "  #print(f'xmin: {xmin}, xmax: {xmax}, ymin: {ymin}, ymax: {ymax}')\n",
        "\n",
        "  # ---- verifica se o ponto esta dentro dos limites do bounding box -----\n",
        "  if(p1[0] >= xmin and p1[0] <= xmax and p1[1] >= ymin and p1[1] <= ymax):\n",
        "    return True\n",
        "  else:\n",
        "    return False\n"
      ]
    },
    {
      "cell_type": "markdown",
      "metadata": {
        "id": "xijR1R87CmhQ"
      },
      "source": [
        "função que retorna quais pontos de bb1 estao dentro de bb2"
      ]
    },
    {
      "cell_type": "code",
      "execution_count": 399,
      "metadata": {
        "id": "6UR4jxepCmAZ"
      },
      "outputs": [],
      "source": [
        "def getPointsInside(bb1 : torch.Tensor, bb2 : torch.Tensor):\n",
        "  print(bb1, bb2)\n",
        "  points_bb1 = get_points(bb1) # pega os pontos do bounding box\n",
        "  points_inside = []\n",
        "\n",
        "  # ----- verificar quais pontos estao dentro do bounding box -----\n",
        "  for p1 in points_bb1:\n",
        "    if(isPointInside(p1, bb2)):\n",
        "      points_inside.append(p1)\n",
        "\n",
        "  return points_inside"
      ]
    },
    {
      "cell_type": "markdown",
      "metadata": {
        "id": "-mxsA6kUaDYn"
      },
      "source": [
        "funções para verificar máximo e mínimo das coordenadas"
      ]
    },
    {
      "cell_type": "code",
      "execution_count": 400,
      "metadata": {
        "id": "KNDfnX5EKKAM"
      },
      "outputs": [],
      "source": [
        "def get_min_x(bb1):\n",
        "  points = get_points(bb1) # pega os pontos do bounding box\n",
        "\n",
        "  # --- verificar qual x é o menor ---\n",
        "  min_x = points[0][0]\n",
        "  for point in points[1:]:\n",
        "    if(point[0] < min_x):\n",
        "      min_x = point[0]\n",
        "  #print(\"min x:\", min_x)\n",
        "  return min_x\n",
        "\n",
        "\n",
        "def get_max_x(bb1):\n",
        "  points = get_points(bb1) # pega os pontos do bounding box\n",
        "\n",
        "  # ----- verificar qual x é o maior -----\n",
        "  max_x = points[0][0]\n",
        "  for point in points[1:]:\n",
        "    if(point[0] > max_x):\n",
        "      max_x = point[0]\n",
        "  #print(\"max x:\", max_x)\n",
        "  return max_x\n",
        "\n",
        "\n",
        "def get_min_y(bb1):\n",
        "  points = get_points(bb1) # pega os pontos do bounding box\n",
        "\n",
        "  # ----- verificar qual y é o menor -----\n",
        "  min_y = points[0][1]\n",
        "  for point in points[1:]:\n",
        "    if(point[1] < min_y):\n",
        "      min_y = point[1]\n",
        "  #print(\"min y:\", min_y)\n",
        "  return min_y\n",
        "\n",
        "\n",
        "def get_max_y(bb1):\n",
        "  points = get_points(bb1) # pega os pontos do bounding box\n",
        "\n",
        "  # ----- verificar qual y é o maior -----\n",
        "  max_y = points[0][1]\n",
        "  for point in points[1:]:\n",
        "    if(point[1] > max_y):\n",
        "      max_y = point[1]\n",
        "  #print(\"max y:\", max_y)\n",
        "  return max_y"
      ]
    },
    {
      "cell_type": "markdown",
      "metadata": {
        "id": "UMulRleTgOMe"
      },
      "source": [
        "função para calcular área bounding box"
      ]
    },
    {
      "cell_type": "code",
      "execution_count": 401,
      "metadata": {
        "id": "UFqN-zP-gRgk"
      },
      "outputs": [],
      "source": [
        "def get_bb_area(bb):\n",
        "  # simplesmente pegar a largura (índice 2) e multiplicar pela altura (índice 3)\n",
        "  try:\n",
        "    aux = bb[0]\n",
        "    return aux[2] * aux[3]\n",
        "  except:\n",
        "    return bb[2] * bb[3]"
      ]
    },
    {
      "cell_type": "markdown",
      "metadata": {
        "id": "ZSTbE-fvEe0P"
      },
      "source": [
        "### Funções auxiliares para encontrar a intereseção entre BB's"
      ]
    },
    {
      "cell_type": "markdown",
      "metadata": {
        "id": "pyiOmXvZX22j"
      },
      "source": [
        "caso para um ponto dentro"
      ]
    },
    {
      "cell_type": "code",
      "execution_count": 402,
      "metadata": {
        "id": "WVVDebqCPhDS"
      },
      "outputs": [],
      "source": [
        "def intersect_with_1_points_inside(bb1, bb2):\n",
        "  insides1 = getPointsInside(bb1,bb2) # pegar os pontos de bb1 que estao dentro de bb2\n",
        "  insides2 = getPointsInside(bb2,bb1) # pegar os pontos de bb2 que estao dentro de bb1\n",
        "\n",
        "  if(len(insides1) >= len(insides2)): # se bb1 tiver mais pontos dentro de bb2 que o inverso\n",
        "    insides = insides1\n",
        "    # ----- identificar qual as posicoes dos bounding boxes e retornar os pontos -----\n",
        "\n",
        "    for ins in insides:\n",
        "      print(\"ponto de dentro:\", ins)\n",
        "      x = ins[0]\n",
        "      y = ins[1]\n",
        "      xmin = get_min_x(bb1)\n",
        "      xmax = get_max_x(bb1)\n",
        "      ymin = get_min_y(bb1)\n",
        "      ymax = get_max_y(bb1)\n",
        "      print('xmin:', xmin, ';xmax:', xmax, ';ymin:', ymin, ';ymax:', ymax)\n",
        "\n",
        "      if (x == xmin):\n",
        "        if(y == ymin):\n",
        "          print(\"inferior esquerdo\")\n",
        "          print(get_max_x(bb2), get_max_y(bb2))\n",
        "          print(f'({get_max_x(bb2)},{y}) ; ({x},{get_max_y(bb2)})')\n",
        "          insides.append((get_max_x(bb2),y))\n",
        "          insides.append((x,get_max_y(bb2)))\n",
        "        else:\n",
        "          print(\"superior esquerdo\")\n",
        "          print(get_max_x(bb2), get_min_y(bb2))\n",
        "          print(f'({get_max_x(bb2)},{y}) ; ({x},{get_min_y(bb2)})')\n",
        "          insides.append((get_max_x(bb2),y))\n",
        "          insides.append((x,get_min_y(bb2)))\n",
        "      else:\n",
        "        if(y == ymin):\n",
        "          print(\"inferior direito\")\n",
        "          print(get_min_x(bb2), get_max_y(bb2))\n",
        "          print(f'({get_min_x(bb2)},{y}) ; ({x},{get_max_y(bb2)})')\n",
        "          insides.append((get_min_x(bb2),y))\n",
        "          insides.append((x,get_max_y(bb2)))\n",
        "        else:\n",
        "          print(\"superior direito\")\n",
        "          print(get_min_x(bb2), get_min_y(bb2))\n",
        "          print(f'({get_min_x(bb2)},{y}) ; ({x},{get_min_y(bb2)})')\n",
        "          insides.append((get_min_x(bb2),y))\n",
        "          insides.append((x,get_min_y(bb2)))\n",
        "\n",
        "      insides.append(getPointsInside(bb2,bb1)[0])\n",
        "      return insides\n",
        "  else: # caso bb2 tiver mais pontos dentro de bb1 que o inverso\n",
        "    return intersect_with_1_points_inside(bb2,bb1)\n"
      ]
    },
    {
      "cell_type": "markdown",
      "metadata": {
        "id": "BemKSWhHSP2m"
      },
      "source": [
        "caso para dois pontos dentro"
      ]
    },
    {
      "cell_type": "code",
      "execution_count": 403,
      "metadata": {
        "id": "S4JH-kLBPriJ"
      },
      "outputs": [],
      "source": [
        "def intersect_with_2_points_inside(bb1, bb2):\n",
        "  insides1 = getPointsInside(bb1,bb2) # pegar os pontos de bb1 que estao dentro de bb2\n",
        "  insides2 = getPointsInside(bb2,bb1) # pegar os pontos de bb2 que estao dentro de bb1\n",
        "\n",
        "  if(len(insides1) >= len(insides2)): # se bb1 tiver mais pontos dentro de bb2 que o inverso\n",
        "    insides = insides1\n",
        "    insidePointsSituations = []\n",
        "\n",
        "    # ----- identificar qual as posicoes dos bounding boxes e retornar os pontos -----\n",
        "    for ins in insides:\n",
        "      print(\"ponto de dentro:\", ins)\n",
        "      x = ins[0]\n",
        "      y = ins[1]\n",
        "      xmin = get_min_x(bb1)\n",
        "      xmax = get_max_x(bb1)\n",
        "      ymin = get_min_y(bb1)\n",
        "      ymax = get_max_y(bb1)\n",
        "      #print('xmin:', xmin, ';xmax:', xmax, ';ymin:', ymin, ';ymax:', ymax)\n",
        "\n",
        "      if (x == xmin):\n",
        "        if(y == ymin):\n",
        "          print(\"inferior esquerdo\")\n",
        "          insidePointsSituations.append('ie')\n",
        "        else:\n",
        "          print(\"superior esquerdo\")\n",
        "          insidePointsSituations.append('se')\n",
        "      else:\n",
        "        if(y == ymin):\n",
        "          print(\"inferior direito\")\n",
        "          insidePointsSituations.append('id')\n",
        "        else:\n",
        "          print(\"superior direito\")\n",
        "          insidePointsSituations.append('sd')\n",
        "\n",
        "    print(insidePointsSituations)\n",
        "    if('ie' in insidePointsSituations and 'id' in insidePointsSituations):\n",
        "      print(\"duas retas subindo\")\n",
        "      min_x = get_min_x(bb1)\n",
        "      max_x = get_max_x(bb1)\n",
        "      max_y = get_max_y(bb2)\n",
        "      insides.append((min_x,max_y))\n",
        "      insides.append((max_x, max_y))\n",
        "      print(min_x, max_y)\n",
        "      print(max_x, max_y)\n",
        "    elif('ie' in insidePointsSituations and 'se' in insidePointsSituations):\n",
        "      print(\"duas retas para a direita\")\n",
        "      max_x = get_max_x(bb2)\n",
        "      max_y = get_max_y(bb1)\n",
        "      min_y = get_min_y(bb1)\n",
        "      insides.append((max_x, max_y))\n",
        "      insides.append((max_x, min_y))\n",
        "      print(max_x, max_y)\n",
        "      print(max_x, min_y)\n",
        "    elif('sd' in insidePointsSituations and 'se' in insidePointsSituations):\n",
        "      print('duas retas descendo')\n",
        "      min_x = get_min_x(bb1)\n",
        "      max_x = get_max_x(bb1)\n",
        "      min_y = get_min_y(bb2)\n",
        "      insides.append((min_x, min_y))\n",
        "      insides.append((max_x, min_y))\n",
        "      print(min_x, min_y)\n",
        "      print(max_x, min_y)\n",
        "    else:\n",
        "      print('duas retas para a esquerda')\n",
        "      min_x = get_min_x(bb2)\n",
        "      max_y = get_max_y(bb1)\n",
        "      min_y = get_min_y(bb1)\n",
        "      insides.append((min_x, max_y))\n",
        "      insides.append((min_x, min_y))\n",
        "      print(min_x, max_y)\n",
        "      print(min_x, min_y)\n",
        "\n",
        "    return [insides[2],insides[3],insides[1],insides[0]]\n",
        "  else: # caso bb2 tiver mais pontos dentro de bb1 que o inverso\n",
        "    return intersect_with_2_points_inside(bb2, bb1)"
      ]
    },
    {
      "cell_type": "markdown",
      "metadata": {
        "id": "9sYBBv3bbfkY"
      },
      "source": [
        "caso para nenhum ponto dentro"
      ]
    },
    {
      "cell_type": "code",
      "execution_count": 404,
      "metadata": {
        "id": "vs6ncscQbi_3"
      },
      "outputs": [],
      "source": [
        "def intersect_with_0_points_inside(bb1, bb2):\n",
        "  # ----- descobrir qual o bounding box com maiores maximos e minimos para x -----\n",
        "  if(get_min_x(bb1) >= get_min_x(bb2) and get_max_x(bb1) <= get_max_x(bb2)):\n",
        "    b1 = bb1\n",
        "    b2 = bb2\n",
        "  else:\n",
        "    b1 = bb2\n",
        "    b2 = bb1\n",
        "\n",
        "  # ----- retornar os pontos -----\n",
        "  p3 = (get_min_x(b1), get_max_y(b2))\n",
        "  p4 = (get_max_x(b1), get_max_y(b2))\n",
        "  p2 = (get_max_x(b1), get_min_y(b2))\n",
        "  p1 = (get_min_x(b1), get_min_y(b2))\n",
        "  return [p1,p2,p3,p4]"
      ]
    },
    {
      "cell_type": "markdown",
      "metadata": {
        "id": "-j5mVJ6ZRuiF"
      },
      "source": [
        "### O Convertido"
      ]
    },
    {
      "cell_type": "code",
      "execution_count": 405,
      "metadata": {
        "id": "u4VwY2wfcRV6"
      },
      "outputs": [],
      "source": [
        "def _O(bb1 : torch.Tensor, bb2 : torch.Tensor):\n",
        "  # ---------- descobrir qual situacao os bb's estao ----------\n",
        "\n",
        "  # verificar quais e quantos pontos estao dentro\n",
        "  bb1_points_inside_bb2 = getPointsInside(bb1, bb2)\n",
        "  bb2_points_inside_bb1 = getPointsInside(bb2, bb1)\n",
        "\n",
        "  # corrigir bug\n",
        "  if(bb2_points_inside_bb1 > bb1_points_inside_bb2):\n",
        "    bb1_points_inside_bb2 = bb2_points_inside_bb1\n",
        "    aux = bb1\n",
        "    bb1 = bb2\n",
        "    bb2 = aux\n",
        "\n",
        "  quantity_inside_points = len(bb1_points_inside_bb2)\n",
        "\n",
        "  # pegar medidas para verificar se estao totalmente sobrepostos ou nao\n",
        "  min_x_bb1 = get_min_x(bb1)\n",
        "  max_x_bb1 = get_max_x(bb1)\n",
        "  min_x_bb2 = get_min_x(bb2)\n",
        "  max_x_bb2 = get_max_x(bb2)\n",
        "  min_y_bb1 = get_min_y(bb1)\n",
        "  max_y_bb1 = get_max_y(bb1)\n",
        "  min_y_bb2 = get_min_y(bb2)\n",
        "  max_y_bb2 = get_max_y(bb2)\n",
        "\n",
        "  # caso em que estao totalmente disjuntos\n",
        "  if(min_x_bb2 >= max_x_bb1 or min_x_bb1 >= max_x_bb2 or min_y_bb2 >= max_y_bb1 or min_y_bb1 >= max_y_bb2):\n",
        "    print(\"totalmente disjuntos\")\n",
        "    return torch.tensor(0.0)\n",
        "  elif(quantity_inside_points == 0): # 0 pontos de nao disjuncao\n",
        "    print(\"0 pontos de nao disjuncao\")\n",
        "    intersect_points = intersect_with_0_points_inside(bb1, bb2)\n",
        "  elif(quantity_inside_points == 1): # 1 pontos de nao disjuncao\n",
        "    print(\"1 pontos de nao disjuncao\")\n",
        "    intersect_points = intersect_with_1_points_inside(bb1, bb2)\n",
        "  elif(quantity_inside_points == 2): # 2 pontos de nao disjuncao\n",
        "    print(\"2 pontos de nao disjuncao\")\n",
        "    intersect_points = intersect_with_2_points_inside(bb1, bb2)\n",
        "  else: # bb's se sobrepoem totalmente\n",
        "    print(\"totalmente nao disjuntos\")\n",
        "    return torch.tensor(1.0)\n",
        "\n",
        "  # ---------- calcular areas para descobrir o quao disjuntos os bb's estao ----------\n",
        "  print(intersect_points)\n",
        "\n",
        "  # area_z = area do bounding box de intersecao entre bb1 e bb2, area_x = area do bb1, area_y = area do bb2\n",
        "  area_z = (intersect_points[1][0] - intersect_points[0][0]) * (intersect_points[2][1] - intersect_points[0][1])\n",
        "  area_x = get_bb_area(bb1)\n",
        "  area_y = get_bb_area(bb2)\n",
        "\n",
        "  # porcentagem de intersecao calculada com a formula do MIRO\n",
        "  percentage = area_z / (area_x + area_y - area_z)\n",
        "  print(area_x, area_y, area_z, percentage)\n",
        "  return percentage"
      ]
    },
    {
      "cell_type": "markdown",
      "metadata": {
        "id": "MIULTDSMCpnO"
      },
      "source": [
        "### D Convertido"
      ]
    },
    {
      "cell_type": "code",
      "execution_count": 406,
      "metadata": {
        "id": "sOBTf2V6YJ6E"
      },
      "outputs": [],
      "source": [
        "def _D(bb1 : torch.Tensor, bb2 : torch.Tensor):\n",
        "  # ---------- descobrir qual situacao os bb's estao ----------\n",
        "\n",
        "  # verificar quais e quantos pontos estao dentro\n",
        "  bb1_points_inside_bb2 = getPointsInside(bb1, bb2)\n",
        "  bb2_points_inside_bb1 = getPointsInside(bb2, bb1)\n",
        "\n",
        "  # corrigir bug\n",
        "  if(bb2_points_inside_bb1 > bb1_points_inside_bb2):\n",
        "    bb1_points_inside_bb2 = bb2_points_inside_bb1\n",
        "    aux = bb1\n",
        "    bb1 = bb2\n",
        "    bb2 = aux\n",
        "\n",
        "  quantity_inside_points = len(bb1_points_inside_bb2)\n",
        "\n",
        "  # pegar medidas para verificar se estao totalmente disjuntos ou nao\n",
        "  min_x_bb1 = get_min_x(bb1)\n",
        "  max_x_bb1 = get_max_x(bb1)\n",
        "  min_x_bb2 = get_min_x(bb2)\n",
        "  max_x_bb2 = get_max_x(bb2)\n",
        "  min_y_bb1 = get_min_y(bb1)\n",
        "  max_y_bb1 = get_max_y(bb1)\n",
        "  min_y_bb2 = get_min_y(bb2)\n",
        "  max_y_bb2 = get_max_y(bb2)\n",
        "\n",
        "  # caso em que estao totalmente disjuntos\n",
        "  if(min_x_bb2 >= max_x_bb1 or min_x_bb1 >= max_x_bb2 or min_y_bb2 >= max_y_bb1 or min_y_bb1 >= max_y_bb2):\n",
        "    print(\"totalmente disjuntos\")\n",
        "    return torch.tensor(1.0)\n",
        "  elif(quantity_inside_points == 0): # 0 pontos de nao disjuncao\n",
        "    print(\"0 pontos de nao disjuncao\")\n",
        "    intersect_points = intersect_with_0_points_inside(bb1, bb2)\n",
        "  elif(quantity_inside_points == 1): # 1 pontos de nao disjuncao\n",
        "    print(\"1 pontos de nao disjuncao\")\n",
        "    intersect_points = intersect_with_1_points_inside(bb1, bb2)\n",
        "  elif(quantity_inside_points == 2): # 2 pontos de nao disjuncao\n",
        "    print(\"2 pontos de nao disjuncao\")\n",
        "    intersect_points = intersect_with_2_points_inside(bb1, bb2)\n",
        "  else: # bb's se sobrepoem totalmente\n",
        "    print(\"totalmente nao disjuntos\")\n",
        "    return torch.tensor(0.0)\n",
        "\n",
        "  # ---------- calcular areas para descobrir o quao disjuntos os bb's estao ----------\n",
        "  print(intersect_points)\n",
        "\n",
        "  # area_z = area do bounding box de intersecao entre bb1 e bb2, area_x = area do bb1, area_y = area do bb2\n",
        "  area_z = (intersect_points[1][0] - intersect_points[0][0]) * (intersect_points[2][1] - intersect_points[0][1])\n",
        "  area_x = get_bb_area(bb1)\n",
        "  area_y = get_bb_area(bb2)\n",
        "\n",
        "  # porcentagem de intersecao calculada com a formula do MIRO\n",
        "  percentage = (area_x + area_y - 2 * area_z)/(area_x + area_y - area_z)\n",
        "  return percentage"
      ]
    },
    {
      "cell_type": "markdown",
      "metadata": {
        "id": "AE18XF7LZb_m"
      },
      "source": [
        "### PO Convertido"
      ]
    },
    {
      "cell_type": "code",
      "execution_count": 407,
      "metadata": {
        "id": "x7YAk0sgV9Uu"
      },
      "outputs": [],
      "source": [
        "def _PO(bb1 : torch.Tensor, bb2 : torch.Tensor):\n",
        "  # ---------- descobrir qual situacao os bb's estao ----------\n",
        "\n",
        "  # verificar quais e quantos pontos estao dentro\n",
        "  bb1_points_inside_bb2 = getPointsInside(bb1, bb2)\n",
        "  bb2_points_inside_bb1 = getPointsInside(bb2, bb1)\n",
        "\n",
        "  # corrigir bug\n",
        "  if(bb2_points_inside_bb1 > bb1_points_inside_bb2):\n",
        "    bb1_points_inside_bb2 = bb2_points_inside_bb1\n",
        "    aux = bb1\n",
        "    bb1 = bb2\n",
        "    bb2 = aux\n",
        "\n",
        "  quantity_inside_points = len(bb1_points_inside_bb2)\n",
        "\n",
        "  # pegar medidas para verificar se estao totalmente sobrepostos ou nao\n",
        "  min_x_bb1 = get_min_x(bb1)\n",
        "  max_x_bb1 = get_max_x(bb1)\n",
        "  min_x_bb2 = get_min_x(bb2)\n",
        "  max_x_bb2 = get_max_x(bb2)\n",
        "  min_y_bb1 = get_min_y(bb1)\n",
        "  max_y_bb1 = get_max_y(bb1)\n",
        "  min_y_bb2 = get_min_y(bb2)\n",
        "  max_y_bb2 = get_max_y(bb2)\n",
        "\n",
        "  # caso em que estao totalmente disjuntos\n",
        "  if(min_x_bb2 >= max_x_bb1 or min_x_bb1 >= max_x_bb2 or min_y_bb2 >= max_y_bb1 or min_y_bb1 >= max_y_bb2):\n",
        "    print(\"totalmente disjuntos\")\n",
        "    return torch.tensor(0)\n",
        "  elif(quantity_inside_points == 0): # 0 pontos de nao disjuncao\n",
        "    print(\"0 pontos de nao disjuncao\")\n",
        "    intersect_points = intersect_with_0_points_inside(bb1, bb2)\n",
        "  elif(quantity_inside_points == 1): # 1 pontos de nao disjuncao\n",
        "    print(\"1 pontos de nao disjuncao\")\n",
        "    intersect_points = intersect_with_1_points_inside(bb1, bb2)\n",
        "  elif(quantity_inside_points == 2): # 2 pontos de nao disjuncao\n",
        "    print(\"2 pontos de nao disjuncao\")\n",
        "    intersect_points = intersect_with_2_points_inside(bb1, bb2)\n",
        "  else: # bb's se sobrepoem totalmente\n",
        "    print(\"totalmente nao disjuntos\")\n",
        "    return torch.tensor(0)\n",
        "\n",
        "  # ---------- calcular areas para descobrir o quao disjuntos os bb's estao ----------\n",
        "  print(intersect_points)\n",
        "\n",
        "  # area_z = area do bounding box de intersecao entre bb1 e bb2, area_x = area do bb1, area_y = area do bb2\n",
        "  area_z = (intersect_points[1][0] - intersect_points[0][0]) * (intersect_points[2][1] - intersect_points[0][1])\n",
        "  area_x = get_bb_area(bb1)\n",
        "  area_y = get_bb_area(bb2)\n",
        "\n",
        "  # porcentagem de intersecao calculada com a formula do MIRO\n",
        "  O = area_z / ((area_x + area_y) - area_z)\n",
        "  D = ((area_x + area_y) - 2* area_z)/(area_x + area_y - area_z)\n",
        "  I1 = O - torch.tensor(0.5)\n",
        "  I2 = D - torch.tensor(0.5)\n",
        "  print(I1,I2)\n",
        "  percentage = torch.tensor(1) - (I1 + I2)\n",
        "\n",
        "  return percentage"
      ]
    },
    {
      "cell_type": "markdown",
      "metadata": {
        "id": "voxzeb-W4W-l"
      },
      "source": [
        "### Predicados de posição"
      ]
    },
    {
      "cell_type": "code",
      "execution_count": 408,
      "metadata": {
        "id": "5Oj_VqvMmIHi"
      },
      "outputs": [],
      "source": [
        "def right_of(bb1, bb2):\n",
        "  angle = calculate_angle(bb1, bb2) # calcular o angulo entre os centros dos bounding boxes\n",
        "  if(angle >= -90 and angle <= 90):\n",
        "    return torch.tensor(math.cos(angle)**2) # cosseno do angulo ao quadrado\n",
        "  return torch.tensor(0)\n",
        "\n",
        "def below(bb1, bb2):\n",
        "  angle = calculate_angle(bb1, bb2) # calcular o angulo entre os centros dos bounding boxes\n",
        "  if(angle >= 0 and angle <= 180):\n",
        "    return torch.tensor(math.sin(angle)**2) # seno do angulo ao quadrado\n",
        "  return torch.tensor(0)\n",
        "\n",
        "def above(bb1, bb2):\n",
        "  angle = calculate_angle(bb1, bb2) # calcular o angulo entre os centros dos bounding boxes\n",
        "  if(angle >= -180 and angle <= 0):\n",
        "    return torch.tensor(math.sin(angle)**2) # seno do angulo ao quadrado\n",
        "  return torch.tensor(0)\n",
        "\n",
        "def left_of(bb1, bb2):\n",
        "  angle = calculate_angle(bb1, bb2) # calcular o angulo entre os centros dos bounding boxes\n",
        "  if((angle >= -180 and angle <= -90) or (angle >= 90 and angle <= 180)):\n",
        "    return torch.tensor(math.cos(angle)**2) # cosseno do angulo ao quadrado\n",
        "  return torch.tensor(0)"
      ]
    },
    {
      "cell_type": "markdown",
      "metadata": {
        "id": "zM3YFfGoHwPG"
      },
      "source": [
        "# Transformando em Predicados em LTN"
      ]
    },
    {
      "cell_type": "markdown",
      "metadata": {
        "id": "nf4zAlP-HUQk"
      },
      "source": [
        "gerar um predicado em LTN para cada predicado no formato de função"
      ]
    },
    {
      "cell_type": "code",
      "execution_count": null,
      "metadata": {
        "id": "ITR0o05ZIBwL"
      },
      "outputs": [],
      "source": [
        "abovePredicate = ltn.Predicate(func=above)\n",
        "belowPredicate = ltn.Predicate(func=below)\n",
        "rightPredicate = ltn.Predicate(func=right_of)\n",
        "leftPredicate = ltn.Predicate(func=left_of)\n",
        "OPredicate = ltn.Predicate(func = _O)\n",
        "POPredicate = ltn.Predicate(func = _PO)\n",
        "DPredicate = ltn.Predicate(func = _D)"
      ]
    },
    {
      "cell_type": "markdown",
      "metadata": {
        "id": "uOoF4AQ0Hb0d"
      },
      "source": [
        "definindo seus bounding boxes"
      ]
    },
    {
      "cell_type": "code",
      "execution_count": null,
      "metadata": {
        "colab": {
          "base_uri": "https://localhost:8080/",
          "height": 435
        },
        "id": "5YEehfUZNao8",
        "outputId": "087aa7fa-5d5d-4dcf-a4e0-bfef4ef4eeee"
      },
      "outputs": [
        {
          "output_type": "display_data",
          "data": {
            "text/plain": [
              "<Figure size 640x480 with 1 Axes>"
            ],
            "image/png": "[encoded data removed]"
          },
          "metadata": {}
        }
      ],
      "source": [
        "bb1 = torch.tensor([0.1, 0.8, 0.05, 0.05])  # QUADRADO VERMELHO\n",
        "bb2 = torch.tensor([0.2, 0.8, 0.2, 0.3])  # QYUADRADO AZUL\n",
        "plot_bounding_boxes(bb1, bb2)"
      ]
    },
    {
      "cell_type": "markdown",
      "metadata": {
        "id": "smMiMDsjNzAS"
      },
      "source": [
        "## juntando predicados"
      ]
    },
    {
      "cell_type": "code",
      "execution_count": null,
      "metadata": {
        "id": "oA0H1BdONx6l"
      },
      "outputs": [],
      "source": [
        "And = ltn.Connective(ltn.fuzzy_ops.AndProd()) # conectivo AND do LTN Torch"
      ]
    },
    {
      "cell_type": "markdown",
      "metadata": {
        "id": "YoQLxBiWg5vI"
      },
      "source": [
        "### Predicados LTN - Posições Relativas (Right, Left, Below, Above)"
      ]
    },
    {
      "cell_type": "code",
      "execution_count": null,
      "metadata": {
        "id": "R-SiGJRyOa1u",
        "colab": {
          "base_uri": "https://localhost:8080/"
        },
        "outputId": "a7e13e3e-3e65-4e59-f3f9-9aaf42086288"
      },
      "outputs": [
        {
          "output_type": "stream",
          "name": "stdout",
          "text": [
            "tensor([[0.4000, 0.8000, 0.2000, 0.3000]]) tensor([[0.4000, 0.3000, 0.2000, 0.3000]])\n",
            "tensor([0.4000, 0.8000, 0.2000, 0.3000]) tensor([0.4000, 0.3000, 0.2000, 0.3000])\n"
          ]
        },
        {
          "output_type": "execute_result",
          "data": {
            "text/plain": [
              "LTNObject(value=tensor(0.7992), free_vars=[])"
            ]
          },
          "metadata": {},
          "execution_count": 310
        }
      ],
      "source": [
        "def ltnAbove(bb1 : torch.tensor, bb2 : torch.tensor):\n",
        "  bb1_ltn = ltn.Constant(bb1)\n",
        "  bb2_ltn = ltn.Constant(bb2)\n",
        "  return abovePredicate(bb1_ltn, bb2_ltn)\n",
        "\n",
        "ltnAbove(bb2, bb1)"
      ]
    },
    {
      "cell_type": "code",
      "execution_count": null,
      "metadata": {
        "id": "P2l5spl2OcbD",
        "colab": {
          "base_uri": "https://localhost:8080/"
        },
        "outputId": "d2059266-6b1c-4908-a71d-c47bc1624a4b"
      },
      "outputs": [
        {
          "output_type": "stream",
          "name": "stdout",
          "text": [
            "tensor([[0.4000, 0.3000, 0.2000, 0.3000]]) tensor([[0.4000, 0.8000, 0.2000, 0.3000]])\n",
            "tensor([0.4000, 0.3000, 0.2000, 0.3000]) tensor([0.4000, 0.8000, 0.2000, 0.3000])\n"
          ]
        },
        {
          "output_type": "execute_result",
          "data": {
            "text/plain": [
              "LTNObject(value=tensor(0.2008), free_vars=[])"
            ]
          },
          "metadata": {},
          "execution_count": 311
        }
      ],
      "source": [
        "def ltnRight(bb1 : torch.tensor, bb2 : torch.tensor):\n",
        "  bb1_ltn = ltn.Constant(bb1)\n",
        "  bb2_ltn = ltn.Constant(bb2)\n",
        "  return rightPredicate(bb1_ltn, bb2_ltn)\n",
        "\n",
        "ltnRight(bb1, bb2)"
      ]
    },
    {
      "cell_type": "code",
      "execution_count": null,
      "metadata": {
        "id": "aqwdmqYPOFEN",
        "colab": {
          "base_uri": "https://localhost:8080/"
        },
        "outputId": "5639baad-fd35-4d0c-a98e-cb8f8aff0413"
      },
      "outputs": [
        {
          "output_type": "stream",
          "name": "stdout",
          "text": [
            "tensor([[0.4000, 0.8000, 0.2000, 0.3000]]) tensor([[0.4000, 0.3000, 0.2000, 0.3000]])\n",
            "tensor([0.4000, 0.8000, 0.2000, 0.3000]) tensor([0.4000, 0.3000, 0.2000, 0.3000])\n"
          ]
        },
        {
          "output_type": "execute_result",
          "data": {
            "text/plain": [
              "LTNObject(value=tensor(0.2008), free_vars=[])"
            ]
          },
          "metadata": {},
          "execution_count": 312
        }
      ],
      "source": [
        "def ltnLeft(bb1 : torch.tensor, bb2 : torch.tensor):\n",
        "  bb1_ltn = ltn.Constant(bb1)\n",
        "  bb2_ltn = ltn.Constant(bb2)\n",
        "  return leftPredicate(bb1_ltn, bb2_ltn)\n",
        "\n",
        "ltnLeft(bb2, bb1)"
      ]
    },
    {
      "cell_type": "code",
      "execution_count": null,
      "metadata": {
        "id": "otAi6UbfVG6a",
        "colab": {
          "base_uri": "https://localhost:8080/"
        },
        "outputId": "7c02ab16-82d2-4ff4-b4a1-37af3f598400"
      },
      "outputs": [
        {
          "output_type": "stream",
          "name": "stdout",
          "text": [
            "tensor([[0.4000, 0.3000, 0.2000, 0.3000]]) tensor([[0.4000, 0.8000, 0.2000, 0.3000]])\n",
            "tensor([0.4000, 0.3000, 0.2000, 0.3000]) tensor([0.4000, 0.8000, 0.2000, 0.3000])\n"
          ]
        },
        {
          "output_type": "execute_result",
          "data": {
            "text/plain": [
              "LTNObject(value=tensor(0.7992), free_vars=[])"
            ]
          },
          "metadata": {},
          "execution_count": 313
        }
      ],
      "source": [
        "def ltnBelow(bb1 : torch.tensor, bb2 : torch.tensor):\n",
        "  bb1_ltn = ltn.Constant(bb1)\n",
        "  bb2_ltn = ltn.Constant(bb2)\n",
        "  return belowPredicate(bb1_ltn, bb2_ltn)\n",
        "\n",
        "ltnBelow(bb1, bb2)"
      ]
    },
    {
      "cell_type": "markdown",
      "metadata": {
        "id": "HCAKTsE3g2vG"
      },
      "source": [
        "### Predicados LTN - In"
      ]
    },
    {
      "cell_type": "code",
      "execution_count": null,
      "metadata": {
        "id": "AkV15qJ5WFQt",
        "colab": {
          "base_uri": "https://localhost:8080/"
        },
        "outputId": "67ad0e89-551d-49d5-8782-22473af11128"
      },
      "outputs": [
        {
          "output_type": "stream",
          "name": "stdout",
          "text": [
            "tensor([[0.2000, 0.8000, 0.2000, 0.3000]]) tensor([[0.1500, 0.9000, 0.0500, 0.0500]])\n",
            "tensor([0.2000, 0.8000, 0.2000, 0.3000]) tensor([0.1500, 0.9000, 0.0500, 0.0500])\n",
            "tensor([[0.2000, 0.8000, 0.2000, 0.3000]]) tensor([[0.1500, 0.9000, 0.0500, 0.0500]])\n",
            "tensor([0.2000, 0.8000, 0.2000, 0.3000]) tensor([0.1500, 0.9000, 0.0500, 0.0500])\n",
            "tensor([[0.2000, 0.8000, 0.2000, 0.3000]]) tensor([[0.1500, 0.9000, 0.0500, 0.0500]])\n",
            "tensor([[0.1500, 0.9000, 0.0500, 0.0500]]) tensor([[0.2000, 0.8000, 0.2000, 0.3000]])\n",
            "totalmente nao disjuntos\n"
          ]
        },
        {
          "output_type": "execute_result",
          "data": {
            "text/plain": [
              "LTNObject(value=tensor(0.0002), free_vars=[])"
            ]
          },
          "metadata": {},
          "execution_count": 373
        }
      ],
      "source": [
        "def ltnInSideLeftAbove(bb1 : torch.tensor, bb2 : torch.tensor):\n",
        "   bb1_ltn = ltn.Constant(bb1)\n",
        "   bb2_ltn = ltn.Constant(bb2)\n",
        "   return And(And(abovePredicate(bb1_ltn, bb2_ltn), leftPredicate(bb1_ltn, bb2_ltn) ), OPredicate(bb1_ltn, bb2_ltn))\n",
        "\n",
        "ltnInSideLeftAbove(bb2,bb1)"
      ]
    },
    {
      "cell_type": "code",
      "execution_count": null,
      "metadata": {
        "id": "1FUzlbKGQKsa",
        "colab": {
          "base_uri": "https://localhost:8080/"
        },
        "outputId": "62931750-958f-42bb-f4ef-041e3aba05b0"
      },
      "outputs": [
        {
          "output_type": "stream",
          "name": "stdout",
          "text": [
            "tensor([[0.4000, 0.8000, 0.2000, 0.3000]]) tensor([[0.4000, 0.3000, 0.2000, 0.3000]])\n",
            "tensor([0.4000, 0.8000, 0.2000, 0.3000]) tensor([0.4000, 0.3000, 0.2000, 0.3000])\n",
            "tensor([[0.4000, 0.8000, 0.2000, 0.3000]]) tensor([[0.4000, 0.3000, 0.2000, 0.3000]])\n",
            "tensor([[0.4000, 0.3000, 0.2000, 0.3000]]) tensor([[0.4000, 0.8000, 0.2000, 0.3000]])\n",
            "totalmente disjuntos\n"
          ]
        },
        {
          "output_type": "execute_result",
          "data": {
            "text/plain": [
              "LTNObject(value=tensor(7.9925e-05), free_vars=[])"
            ]
          },
          "metadata": {},
          "execution_count": 315
        }
      ],
      "source": [
        "def ltnInAbove(bb1 : torch.tensor, bb2 : torch.tensor):\n",
        "  bb1_ltn = ltn.Constant(bb1)\n",
        "  bb2_ltn = ltn.Constant(bb2)\n",
        "  return And(abovePredicate(bb1_ltn, bb2_ltn), OPredicate(bb1_ltn, bb2_ltn))\n",
        "\n",
        "ltnInAbove(bb2, bb1)"
      ]
    },
    {
      "cell_type": "code",
      "execution_count": null,
      "metadata": {
        "id": "ff_qDriOXybq",
        "colab": {
          "base_uri": "https://localhost:8080/"
        },
        "outputId": "013f68d4-515f-4513-f892-a67636c9536d"
      },
      "outputs": [
        {
          "output_type": "stream",
          "name": "stdout",
          "text": [
            "tensor([[0.4000, 0.3000, 0.2000, 0.3000]]) tensor([[0.4000, 0.8000, 0.2000, 0.3000]])\n",
            "tensor([0.4000, 0.3000, 0.2000, 0.3000]) tensor([0.4000, 0.8000, 0.2000, 0.3000])\n",
            "tensor([[0.4000, 0.3000, 0.2000, 0.3000]]) tensor([[0.4000, 0.8000, 0.2000, 0.3000]])\n",
            "tensor([0.4000, 0.3000, 0.2000, 0.3000]) tensor([0.4000, 0.8000, 0.2000, 0.3000])\n",
            "tensor([[0.4000, 0.3000, 0.2000, 0.3000]]) tensor([[0.4000, 0.8000, 0.2000, 0.3000]])\n",
            "tensor([[0.4000, 0.8000, 0.2000, 0.3000]]) tensor([[0.4000, 0.3000, 0.2000, 0.3000]])\n",
            "totalmente disjuntos\n"
          ]
        },
        {
          "output_type": "execute_result",
          "data": {
            "text/plain": [
              "LTNObject(value=tensor(1.2008e-08), free_vars=[])"
            ]
          },
          "metadata": {},
          "execution_count": 316
        }
      ],
      "source": [
        "def ltnInSideRightAbove(bb1 : torch.tensor, bb2 : torch.tensor):\n",
        "  bb1_ltn = ltn.Constant(bb1)\n",
        "  bb2_ltn = ltn.Constant(bb2)\n",
        "  return And(And(abovePredicate(bb1_ltn, bb2_ltn), rightPredicate(bb1_ltn, bb2_ltn) ), OPredicate(bb1_ltn, bb2_ltn))\n",
        "\n",
        "ltnInSideRightAbove(bb1,bb2)"
      ]
    },
    {
      "cell_type": "code",
      "execution_count": null,
      "metadata": {
        "id": "tY2s5JZCY7BK",
        "colab": {
          "base_uri": "https://localhost:8080/"
        },
        "outputId": "f81cb77a-c53b-4523-891d-86b80c8d0c42"
      },
      "outputs": [
        {
          "output_type": "stream",
          "name": "stdout",
          "text": [
            "tensor([[0.4000, 0.3000, 0.2000, 0.3000]]) tensor([[0.4000, 0.8000, 0.2000, 0.3000]])\n",
            "tensor([0.4000, 0.3000, 0.2000, 0.3000]) tensor([0.4000, 0.8000, 0.2000, 0.3000])\n",
            "tensor([[0.4000, 0.3000, 0.2000, 0.3000]]) tensor([[0.4000, 0.8000, 0.2000, 0.3000]])\n",
            "tensor([[0.4000, 0.8000, 0.2000, 0.3000]]) tensor([[0.4000, 0.3000, 0.2000, 0.3000]])\n",
            "totalmente disjuntos\n"
          ]
        },
        {
          "output_type": "execute_result",
          "data": {
            "text/plain": [
              "LTNObject(value=tensor(2.0085e-05), free_vars=[])"
            ]
          },
          "metadata": {},
          "execution_count": 317
        }
      ],
      "source": [
        "def ltnInSideRight(bb1 : torch.tensor, bb2 : torch.tensor):\n",
        "  bb1_ltn = ltn.Constant(bb1)\n",
        "  bb2_ltn = ltn.Constant(bb2)\n",
        "  return And(rightPredicate(bb1_ltn, bb2_ltn), OPredicate(bb1_ltn, bb2_ltn))\n",
        "\n",
        "ltnInSideRight(bb1,bb2)"
      ]
    },
    {
      "cell_type": "code",
      "execution_count": null,
      "metadata": {
        "id": "v1mAjRjTZFB1",
        "colab": {
          "base_uri": "https://localhost:8080/"
        },
        "outputId": "2dbb22ea-3840-4ebd-ec96-22b05cabeadf"
      },
      "outputs": [
        {
          "output_type": "stream",
          "name": "stdout",
          "text": [
            "tensor([[0.4000, 0.8000, 0.2000, 0.3000]]) tensor([[0.4000, 0.3000, 0.2000, 0.3000]])\n",
            "tensor([0.4000, 0.8000, 0.2000, 0.3000]) tensor([0.4000, 0.3000, 0.2000, 0.3000])\n",
            "tensor([[0.4000, 0.8000, 0.2000, 0.3000]]) tensor([[0.4000, 0.3000, 0.2000, 0.3000]])\n",
            "tensor([0.4000, 0.8000, 0.2000, 0.3000]) tensor([0.4000, 0.3000, 0.2000, 0.3000])\n",
            "tensor([[0.4000, 0.8000, 0.2000, 0.3000]]) tensor([[0.4000, 0.3000, 0.2000, 0.3000]])\n",
            "tensor([[0.4000, 0.3000, 0.2000, 0.3000]]) tensor([[0.4000, 0.8000, 0.2000, 0.3000]])\n",
            "totalmente disjuntos\n"
          ]
        },
        {
          "output_type": "execute_result",
          "data": {
            "text/plain": [
              "LTNObject(value=tensor(1.2008e-08), free_vars=[])"
            ]
          },
          "metadata": {},
          "execution_count": 318
        }
      ],
      "source": [
        "def ltnInSideRightBelow(bb1 : torch.tensor, bb2 : torch.tensor):\n",
        "  bb1_ltn = ltn.Constant(bb1)\n",
        "  bb2_ltn = ltn.Constant(bb2)\n",
        "  return And(And(belowPredicate(bb1_ltn, bb2_ltn), rightPredicate(bb1_ltn, bb2_ltn) ), OPredicate(bb1_ltn, bb2_ltn))\n",
        "\n",
        "ltnInSideRightBelow(bb2,bb1)"
      ]
    },
    {
      "cell_type": "code",
      "execution_count": null,
      "metadata": {
        "id": "xIAQxVKxZWwY",
        "colab": {
          "base_uri": "https://localhost:8080/"
        },
        "outputId": "4f5214e2-7f22-44dc-e6a9-1b26b511c255"
      },
      "outputs": [
        {
          "output_type": "stream",
          "name": "stdout",
          "text": [
            "tensor([[0.4000, 0.8000, 0.2000, 0.3000]]) tensor([[0.4000, 0.3000, 0.2000, 0.3000]])\n",
            "tensor([0.4000, 0.8000, 0.2000, 0.3000]) tensor([0.4000, 0.3000, 0.2000, 0.3000])\n",
            "tensor([[0.4000, 0.8000, 0.2000, 0.3000]]) tensor([[0.4000, 0.3000, 0.2000, 0.3000]])\n",
            "tensor([[0.4000, 0.3000, 0.2000, 0.3000]]) tensor([[0.4000, 0.8000, 0.2000, 0.3000]])\n",
            "totalmente disjuntos\n"
          ]
        },
        {
          "output_type": "execute_result",
          "data": {
            "text/plain": [
              "LTNObject(value=tensor(1.0000e-08), free_vars=[])"
            ]
          },
          "metadata": {},
          "execution_count": 319
        }
      ],
      "source": [
        "def ltnInBelow(bb1 : torch.tensor, bb2 : torch.tensor):\n",
        "  bb1_ltn = ltn.Constant(bb1)\n",
        "  bb2_ltn = ltn.Constant(bb2)\n",
        "  return And(belowPredicate(bb1_ltn, bb2_ltn), OPredicate(bb1_ltn, bb2_ltn))\n",
        "\n",
        "ltnInBelow(bb2, bb1)"
      ]
    },
    {
      "cell_type": "code",
      "execution_count": null,
      "metadata": {
        "id": "dlONraBsZjo9",
        "colab": {
          "base_uri": "https://localhost:8080/"
        },
        "outputId": "ff91c739-3742-4031-fc09-826829f728d2"
      },
      "outputs": [
        {
          "output_type": "stream",
          "name": "stdout",
          "text": [
            "tensor([[0.4000, 0.8000, 0.2000, 0.3000]]) tensor([[0.4000, 0.3000, 0.2000, 0.3000]])\n",
            "tensor([0.4000, 0.8000, 0.2000, 0.3000]) tensor([0.4000, 0.3000, 0.2000, 0.3000])\n",
            "tensor([[0.4000, 0.8000, 0.2000, 0.3000]]) tensor([[0.4000, 0.3000, 0.2000, 0.3000]])\n",
            "tensor([0.4000, 0.8000, 0.2000, 0.3000]) tensor([0.4000, 0.3000, 0.2000, 0.3000])\n",
            "tensor([[0.4000, 0.8000, 0.2000, 0.3000]]) tensor([[0.4000, 0.3000, 0.2000, 0.3000]])\n",
            "tensor([[0.4000, 0.3000, 0.2000, 0.3000]]) tensor([[0.4000, 0.8000, 0.2000, 0.3000]])\n",
            "totalmente disjuntos\n"
          ]
        },
        {
          "output_type": "execute_result",
          "data": {
            "text/plain": [
              "LTNObject(value=tensor(1.2008e-08), free_vars=[])"
            ]
          },
          "metadata": {},
          "execution_count": 320
        }
      ],
      "source": [
        "def ltnInSideLeftBelow(bb1 : torch.tensor, bb2 : torch.tensor):\n",
        "  bb1_ltn = ltn.Constant(bb1)\n",
        "  bb2_ltn = ltn.Constant(bb2)\n",
        "  return And(And(belowPredicate(bb1_ltn, bb2_ltn), leftPredicate(bb1_ltn, bb2_ltn)), OPredicate(bb1_ltn, bb2_ltn))\n",
        "\n",
        "ltnInSideLeftBelow(bb2,bb1)"
      ]
    },
    {
      "cell_type": "code",
      "execution_count": null,
      "metadata": {
        "id": "cjqArU-6Zx1y",
        "colab": {
          "base_uri": "https://localhost:8080/"
        },
        "outputId": "c2f4a385-2e40-4379-a420-7a9f71a5cb25"
      },
      "outputs": [
        {
          "output_type": "stream",
          "name": "stdout",
          "text": [
            "tensor([[0.2000, 0.8000, 0.2000, 0.3000]]) tensor([[0.1500, 0.8000, 0.0500, 0.0500]])\n",
            "tensor([0.2000, 0.8000, 0.2000, 0.3000]) tensor([0.1500, 0.8000, 0.0500, 0.0500])\n",
            "tensor([[0.2000, 0.8000, 0.2000, 0.3000]]) tensor([[0.1500, 0.8000, 0.0500, 0.0500]])\n",
            "tensor([[0.1500, 0.8000, 0.0500, 0.0500]]) tensor([[0.2000, 0.8000, 0.2000, 0.3000]])\n",
            "totalmente nao disjuntos\n"
          ]
        },
        {
          "output_type": "execute_result",
          "data": {
            "text/plain": [
              "LTNObject(value=tensor(0.3582), free_vars=[])"
            ]
          },
          "metadata": {},
          "execution_count": 376
        }
      ],
      "source": [
        "def ltnInSideLeft(bb1 : torch.tensor, bb2 : torch.tensor):\n",
        "  bb1_ltn = ltn.Constant(bb1)\n",
        "  bb2_ltn = ltn.Constant(bb2)\n",
        "  return And(leftPredicate(bb1_ltn, bb2_ltn), OPredicate(bb1_ltn, bb2_ltn))\n",
        "\n",
        "ltnInSideLeft(bb2,bb1)"
      ]
    },
    {
      "cell_type": "markdown",
      "metadata": {
        "id": "wRr_fVLEgzi2"
      },
      "source": [
        "### Predicados LTN - Edge"
      ]
    },
    {
      "cell_type": "code",
      "execution_count": null,
      "metadata": {
        "id": "ofPNNR98aYeA",
        "colab": {
          "base_uri": "https://localhost:8080/"
        },
        "outputId": "c8f7d69c-32c9-4ba1-815d-e9e4123b6785"
      },
      "outputs": [
        {
          "output_type": "stream",
          "name": "stdout",
          "text": [
            "tensor([[0.4000, 0.3000, 0.2000, 0.3000]]) tensor([[0.4000, 0.8000, 0.2000, 0.3000]])\n",
            "tensor([0.4000, 0.3000, 0.2000, 0.3000]) tensor([0.4000, 0.8000, 0.2000, 0.3000])\n",
            "tensor([[0.4000, 0.3000, 0.2000, 0.3000]]) tensor([[0.4000, 0.8000, 0.2000, 0.3000]])\n",
            "tensor([0.4000, 0.3000, 0.2000, 0.3000]) tensor([0.4000, 0.8000, 0.2000, 0.3000])\n",
            "tensor([[0.4000, 0.3000, 0.2000, 0.3000]]) tensor([[0.4000, 0.8000, 0.2000, 0.3000]])\n",
            "tensor([[0.4000, 0.8000, 0.2000, 0.3000]]) tensor([[0.4000, 0.3000, 0.2000, 0.3000]])\n",
            "totalmente disjuntos\n"
          ]
        },
        {
          "output_type": "execute_result",
          "data": {
            "text/plain": [
              "LTNObject(value=tensor(1.2008e-08), free_vars=[])"
            ]
          },
          "metadata": {},
          "execution_count": 322
        }
      ],
      "source": [
        "def ltnEdgeSideLeftAbove(bb1 : torch.tensor, bb2 : torch.tensor):\n",
        "   bb1_ltn = ltn.Constant(bb1)\n",
        "   bb2_ltn = ltn.Constant(bb2)\n",
        "   return And(And(abovePredicate(bb1_ltn, bb2_ltn), leftPredicate(bb1_ltn, bb2_ltn) ), POPredicate(bb1_ltn, bb2_ltn))\n",
        "\n",
        "ltnEdgeSideLeftAbove(bb1,bb2)"
      ]
    },
    {
      "cell_type": "code",
      "execution_count": null,
      "metadata": {
        "id": "9HyWEda0bPuq",
        "colab": {
          "base_uri": "https://localhost:8080/"
        },
        "outputId": "45480497-d697-41e9-ec61-4cc859e600b8"
      },
      "outputs": [
        {
          "output_type": "stream",
          "name": "stdout",
          "text": [
            "tensor([[0.4000, 0.3000, 0.2000, 0.3000]]) tensor([[0.4000, 0.8000, 0.2000, 0.3000]])\n",
            "tensor([0.4000, 0.3000, 0.2000, 0.3000]) tensor([0.4000, 0.8000, 0.2000, 0.3000])\n",
            "tensor([[0.4000, 0.3000, 0.2000, 0.3000]]) tensor([[0.4000, 0.8000, 0.2000, 0.3000]])\n",
            "tensor([[0.4000, 0.8000, 0.2000, 0.3000]]) tensor([[0.4000, 0.3000, 0.2000, 0.3000]])\n",
            "totalmente disjuntos\n"
          ]
        },
        {
          "output_type": "execute_result",
          "data": {
            "text/plain": [
              "LTNObject(value=tensor(1.0000e-08), free_vars=[])"
            ]
          },
          "metadata": {},
          "execution_count": 323
        }
      ],
      "source": [
        "def ltnEdgeAbove(bb1 : torch.tensor, bb2 : torch.tensor):\n",
        "  bb1_ltn = ltn.Constant(bb1)\n",
        "  bb2_ltn = ltn.Constant(bb2)\n",
        "  return And(abovePredicate(bb1_ltn, bb2_ltn), POPredicate(bb1_ltn, bb2_ltn))\n",
        "\n",
        "ltnEdgeAbove(bb1, bb2)"
      ]
    },
    {
      "cell_type": "code",
      "execution_count": null,
      "metadata": {
        "id": "TBSsW0OfcOUp",
        "colab": {
          "base_uri": "https://localhost:8080/"
        },
        "outputId": "31a130fd-ece1-4c71-d13c-bcea596892a1"
      },
      "outputs": [
        {
          "output_type": "stream",
          "name": "stdout",
          "text": [
            "tensor([[0.4000, 0.3000, 0.2000, 0.3000]]) tensor([[0.4000, 0.8000, 0.2000, 0.3000]])\n",
            "tensor([0.4000, 0.3000, 0.2000, 0.3000]) tensor([0.4000, 0.8000, 0.2000, 0.3000])\n",
            "tensor([[0.4000, 0.3000, 0.2000, 0.3000]]) tensor([[0.4000, 0.8000, 0.2000, 0.3000]])\n",
            "tensor([0.4000, 0.3000, 0.2000, 0.3000]) tensor([0.4000, 0.8000, 0.2000, 0.3000])\n",
            "tensor([[0.4000, 0.3000, 0.2000, 0.3000]]) tensor([[0.4000, 0.8000, 0.2000, 0.3000]])\n",
            "tensor([[0.4000, 0.8000, 0.2000, 0.3000]]) tensor([[0.4000, 0.3000, 0.2000, 0.3000]])\n",
            "totalmente disjuntos\n"
          ]
        },
        {
          "output_type": "execute_result",
          "data": {
            "text/plain": [
              "LTNObject(value=tensor(1.2008e-08), free_vars=[])"
            ]
          },
          "metadata": {},
          "execution_count": 324
        }
      ],
      "source": [
        "def ltnEdgeSideRightAbove(bb1 : torch.tensor, bb2 : torch.tensor):\n",
        "  bb1_ltn = ltn.Constant(bb1)\n",
        "  bb2_ltn = ltn.Constant(bb2)\n",
        "  return And(And(abovePredicate(bb1_ltn, bb2_ltn), rightPredicate(bb1_ltn, bb2_ltn) ), POPredicate(bb1_ltn, bb2_ltn))\n",
        "\n",
        "ltnEdgeSideRightAbove(bb1,bb2)"
      ]
    },
    {
      "cell_type": "code",
      "execution_count": null,
      "metadata": {
        "id": "xLQTyeNddcI5",
        "colab": {
          "base_uri": "https://localhost:8080/"
        },
        "outputId": "fc4e0a82-b599-4041-c2eb-166b3b133ac3"
      },
      "outputs": [
        {
          "output_type": "stream",
          "name": "stdout",
          "text": [
            "tensor([[0.4000, 0.3000, 0.2000, 0.3000]]) tensor([[0.4000, 0.8000, 0.2000, 0.3000]])\n",
            "tensor([0.4000, 0.3000, 0.2000, 0.3000]) tensor([0.4000, 0.8000, 0.2000, 0.3000])\n",
            "tensor([[0.4000, 0.3000, 0.2000, 0.3000]]) tensor([[0.4000, 0.8000, 0.2000, 0.3000]])\n",
            "tensor([[0.4000, 0.8000, 0.2000, 0.3000]]) tensor([[0.4000, 0.3000, 0.2000, 0.3000]])\n",
            "totalmente disjuntos\n"
          ]
        },
        {
          "output_type": "execute_result",
          "data": {
            "text/plain": [
              "LTNObject(value=tensor(2.0085e-05), free_vars=[])"
            ]
          },
          "metadata": {},
          "execution_count": 325
        }
      ],
      "source": [
        "def ltnEdgeSideRight(bb1 : torch.tensor, bb2 : torch.tensor):\n",
        "  bb1_ltn = ltn.Constant(bb1)\n",
        "  bb2_ltn = ltn.Constant(bb2)\n",
        "  return And(rightPredicate(bb1_ltn, bb2_ltn) , POPredicate(bb1_ltn, bb2_ltn))\n",
        "\n",
        "ltnEdgeSideRight(bb1,bb2)"
      ]
    },
    {
      "cell_type": "code",
      "execution_count": null,
      "metadata": {
        "id": "JXukrN5bd70O",
        "colab": {
          "base_uri": "https://localhost:8080/"
        },
        "outputId": "581491ed-92a5-4e48-a723-0c9abeb30648"
      },
      "outputs": [
        {
          "output_type": "stream",
          "name": "stdout",
          "text": [
            "tensor([[0.4000, 0.3000, 0.2000, 0.3000]]) tensor([[0.4000, 0.8000, 0.2000, 0.3000]])\n",
            "tensor([0.4000, 0.3000, 0.2000, 0.3000]) tensor([0.4000, 0.8000, 0.2000, 0.3000])\n",
            "tensor([[0.4000, 0.3000, 0.2000, 0.3000]]) tensor([[0.4000, 0.8000, 0.2000, 0.3000]])\n",
            "tensor([0.4000, 0.3000, 0.2000, 0.3000]) tensor([0.4000, 0.8000, 0.2000, 0.3000])\n",
            "tensor([[0.4000, 0.3000, 0.2000, 0.3000]]) tensor([[0.4000, 0.8000, 0.2000, 0.3000]])\n",
            "tensor([[0.4000, 0.8000, 0.2000, 0.3000]]) tensor([[0.4000, 0.3000, 0.2000, 0.3000]])\n",
            "totalmente disjuntos\n"
          ]
        },
        {
          "output_type": "execute_result",
          "data": {
            "text/plain": [
              "LTNObject(value=tensor(1.6061e-05), free_vars=[])"
            ]
          },
          "metadata": {},
          "execution_count": 326
        }
      ],
      "source": [
        "def ltnEdgeSideRightBelow(bb1 : torch.tensor, bb2 : torch.tensor):\n",
        "  bb1_ltn = ltn.Constant(bb1)\n",
        "  bb2_ltn = ltn.Constant(bb2)\n",
        "  return And(And(belowPredicate(bb1_ltn, bb2_ltn), rightPredicate(bb1_ltn, bb2_ltn)), POPredicate(bb1_ltn, bb2_ltn))\n",
        "\n",
        "ltnEdgeSideRightBelow(bb1,bb2)"
      ]
    },
    {
      "cell_type": "code",
      "execution_count": null,
      "metadata": {
        "id": "_zjpwTDne64M",
        "colab": {
          "base_uri": "https://localhost:8080/"
        },
        "outputId": "672576ad-53d0-4b3e-aeaa-8cdfbf98566a"
      },
      "outputs": [
        {
          "output_type": "stream",
          "name": "stdout",
          "text": [
            "tensor([[0.4000, 0.3000, 0.2000, 0.3000]]) tensor([[0.4000, 0.8000, 0.2000, 0.3000]])\n",
            "tensor([0.4000, 0.3000, 0.2000, 0.3000]) tensor([0.4000, 0.8000, 0.2000, 0.3000])\n",
            "tensor([[0.4000, 0.3000, 0.2000, 0.3000]]) tensor([[0.4000, 0.8000, 0.2000, 0.3000]])\n",
            "tensor([[0.4000, 0.8000, 0.2000, 0.3000]]) tensor([[0.4000, 0.3000, 0.2000, 0.3000]])\n",
            "totalmente disjuntos\n"
          ]
        },
        {
          "output_type": "execute_result",
          "data": {
            "text/plain": [
              "LTNObject(value=tensor(7.9925e-05), free_vars=[])"
            ]
          },
          "metadata": {},
          "execution_count": 327
        }
      ],
      "source": [
        "def ltnEdgeBelow(bb1 : torch.tensor, bb2 : torch.tensor):\n",
        "  bb1_ltn = ltn.Constant(bb1)\n",
        "  bb2_ltn = ltn.Constant(bb2)\n",
        "  return And(belowPredicate(bb1_ltn, bb2_ltn), POPredicate(bb1_ltn, bb2_ltn))\n",
        "\n",
        "ltnEdgeBelow(bb1, bb2)"
      ]
    },
    {
      "cell_type": "code",
      "execution_count": null,
      "metadata": {
        "id": "DjVMQCApfPYD",
        "colab": {
          "base_uri": "https://localhost:8080/"
        },
        "outputId": "cbed27f1-de20-4cd6-efa4-12f908ce293e"
      },
      "outputs": [
        {
          "output_type": "stream",
          "name": "stdout",
          "text": [
            "tensor([[0.4000, 0.3000, 0.2000, 0.3000]]) tensor([[0.4000, 0.8000, 0.2000, 0.3000]])\n",
            "tensor([0.4000, 0.3000, 0.2000, 0.3000]) tensor([0.4000, 0.8000, 0.2000, 0.3000])\n",
            "tensor([[0.4000, 0.3000, 0.2000, 0.3000]]) tensor([[0.4000, 0.8000, 0.2000, 0.3000]])\n",
            "tensor([0.4000, 0.3000, 0.2000, 0.3000]) tensor([0.4000, 0.8000, 0.2000, 0.3000])\n",
            "tensor([[0.4000, 0.3000, 0.2000, 0.3000]]) tensor([[0.4000, 0.8000, 0.2000, 0.3000]])\n",
            "tensor([[0.4000, 0.8000, 0.2000, 0.3000]]) tensor([[0.4000, 0.3000, 0.2000, 0.3000]])\n",
            "totalmente disjuntos\n"
          ]
        },
        {
          "output_type": "execute_result",
          "data": {
            "text/plain": [
              "LTNObject(value=tensor(1.6061e-05), free_vars=[])"
            ]
          },
          "metadata": {},
          "execution_count": 328
        }
      ],
      "source": [
        "def ltnEdgeSideLeftBelow(bb1 : torch.tensor, bb2 : torch.tensor):\n",
        "   bb1_ltn = ltn.Constant(bb1)\n",
        "   bb2_ltn = ltn.Constant(bb2)\n",
        "   return And(And(belowPredicate(bb1_ltn, bb2_ltn), leftPredicate(bb1_ltn, bb2_ltn) ), POPredicate(bb1_ltn, bb2_ltn))\n",
        "\n",
        "ltnEdgeSideLeftBelow(bb1,bb2)"
      ]
    },
    {
      "cell_type": "code",
      "execution_count": null,
      "metadata": {
        "id": "SQ3hR5Q8fZKA",
        "colab": {
          "base_uri": "https://localhost:8080/"
        },
        "outputId": "c4252028-a3d1-4bc5-9f74-0f3b03901bd7"
      },
      "outputs": [
        {
          "output_type": "stream",
          "name": "stdout",
          "text": [
            "tensor([[0.2000, 0.8000, 0.2000, 0.3000]]) tensor([[0.1000, 0.8000, 0.0500, 0.0500]])\n",
            "tensor([0.2000, 0.8000, 0.2000, 0.3000]) tensor([0.1000, 0.8000, 0.0500, 0.0500])\n",
            "tensor([[0.2000, 0.8000, 0.2000, 0.3000]]) tensor([[0.1000, 0.8000, 0.0500, 0.0500]])\n",
            "tensor([[0.1000, 0.8000, 0.0500, 0.0500]]) tensor([[0.2000, 0.8000, 0.2000, 0.3000]])\n",
            "2 pontos de nao disjuncao\n",
            "tensor([[0.1000, 0.8000, 0.0500, 0.0500]]) tensor([[0.2000, 0.8000, 0.2000, 0.3000]])\n",
            "tensor([[0.2000, 0.8000, 0.2000, 0.3000]]) tensor([[0.1000, 0.8000, 0.0500, 0.0500]])\n",
            "ponto de dentro: (tensor(0.1250), tensor(0.7750))\n",
            "inferior direito\n",
            "ponto de dentro: (tensor(0.1250), tensor(0.8250))\n",
            "superior direito\n",
            "['id', 'sd']\n",
            "duas retas para a esquerda\n",
            "tensor(0.1000) tensor(0.8250)\n",
            "tensor(0.1000) tensor(0.7750)\n",
            "[(tensor(0.1000), tensor(0.8250)), (tensor(0.1000), tensor(0.7750)), (tensor(0.1250), tensor(0.8250)), (tensor(0.1250), tensor(0.7750))]\n",
            "tensor(-0.5000) tensor(0.5000)\n"
          ]
        },
        {
          "output_type": "execute_result",
          "data": {
            "text/plain": [
              "LTNObject(value=tensor(0.3582), free_vars=[])"
            ]
          },
          "metadata": {},
          "execution_count": 381
        }
      ],
      "source": [
        "def ltnEdgeSideLeft(bb1 : torch.tensor, bb2 : torch.tensor):\n",
        "   bb1_ltn = ltn.Constant(bb1)\n",
        "   bb2_ltn = ltn.Constant(bb2)\n",
        "   return And(leftPredicate(bb1_ltn, bb2_ltn) , POPredicate(bb1_ltn, bb2_ltn))\n",
        "\n",
        "ltnEdgeSideLeft(bb2,bb1)"
      ]
    },
    {
      "cell_type": "markdown",
      "metadata": {
        "id": "egsFjRB8guKw"
      },
      "source": [
        "### Predicados LTN - Out"
      ]
    },
    {
      "cell_type": "code",
      "execution_count": null,
      "metadata": {
        "id": "2u6gnDiVgUef",
        "colab": {
          "base_uri": "https://localhost:8080/"
        },
        "outputId": "fa7392d2-6718-469b-b584-f5fb1b088887"
      },
      "outputs": [
        {
          "output_type": "stream",
          "name": "stdout",
          "text": [
            "tensor([[0.4000, 0.3000, 0.2000, 0.3000]]) tensor([[0.4000, 0.8000, 0.2000, 0.3000]])\n",
            "tensor([0.4000, 0.3000, 0.2000, 0.3000]) tensor([0.4000, 0.8000, 0.2000, 0.3000])\n",
            "tensor([[0.4000, 0.3000, 0.2000, 0.3000]]) tensor([[0.4000, 0.8000, 0.2000, 0.3000]])\n",
            "tensor([0.4000, 0.3000, 0.2000, 0.3000]) tensor([0.4000, 0.8000, 0.2000, 0.3000])\n",
            "tensor([[0.4000, 0.3000, 0.2000, 0.3000]]) tensor([[0.4000, 0.8000, 0.2000, 0.3000]])\n",
            "tensor([[0.4000, 0.8000, 0.2000, 0.3000]]) tensor([[0.4000, 0.3000, 0.2000, 0.3000]])\n",
            "totalmente disjuntos\n"
          ]
        },
        {
          "output_type": "execute_result",
          "data": {
            "text/plain": [
              "LTNObject(value=tensor(0.0001), free_vars=[])"
            ]
          },
          "metadata": {},
          "execution_count": 330
        }
      ],
      "source": [
        "def ltnOutSideLeftAbove(bb1 : torch.tensor, bb2 : torch.tensor):\n",
        "   bb1_ltn = ltn.Constant(bb1)\n",
        "   bb2_ltn = ltn.Constant(bb2)\n",
        "   return And(And(abovePredicate(bb1_ltn, bb2_ltn), leftPredicate(bb1_ltn, bb2_ltn) ), DPredicate(bb1_ltn, bb2_ltn))\n",
        "\n",
        "ltnOutSideLeftAbove(bb1,bb2)"
      ]
    },
    {
      "cell_type": "code",
      "execution_count": null,
      "metadata": {
        "id": "pkun_cHGgUeg",
        "colab": {
          "base_uri": "https://localhost:8080/"
        },
        "outputId": "a1346e54-20bc-4f9d-e183-f6a047a10c7e"
      },
      "outputs": [
        {
          "output_type": "stream",
          "name": "stdout",
          "text": [
            "tensor([[0.4000, 0.3000, 0.2000, 0.3000]]) tensor([[0.4000, 0.8000, 0.2000, 0.3000]])\n",
            "tensor([0.4000, 0.3000, 0.2000, 0.3000]) tensor([0.4000, 0.8000, 0.2000, 0.3000])\n",
            "tensor([[0.4000, 0.3000, 0.2000, 0.3000]]) tensor([[0.4000, 0.8000, 0.2000, 0.3000]])\n",
            "tensor([[0.4000, 0.8000, 0.2000, 0.3000]]) tensor([[0.4000, 0.3000, 0.2000, 0.3000]])\n",
            "totalmente disjuntos\n"
          ]
        },
        {
          "output_type": "execute_result",
          "data": {
            "text/plain": [
              "LTNObject(value=tensor(1.0000e-04), free_vars=[])"
            ]
          },
          "metadata": {},
          "execution_count": 331
        }
      ],
      "source": [
        "def ltnOutAbove(bb1 : torch.tensor, bb2 : torch.tensor):\n",
        "  bb1_ltn = ltn.Constant(bb1)\n",
        "  bb2_ltn = ltn.Constant(bb2)\n",
        "  return And(abovePredicate(bb1_ltn, bb2_ltn), DPredicate(bb1_ltn, bb2_ltn))\n",
        "\n",
        "ltnOutAbove(bb1, bb2)"
      ]
    },
    {
      "cell_type": "code",
      "execution_count": null,
      "metadata": {
        "id": "Xar8lyXNgUeg",
        "colab": {
          "base_uri": "https://localhost:8080/"
        },
        "outputId": "06c324ce-710d-45b1-ce3f-6c10db99a899"
      },
      "outputs": [
        {
          "output_type": "stream",
          "name": "stdout",
          "text": [
            "tensor([[0.4000, 0.3000, 0.2000, 0.3000]]) tensor([[0.4000, 0.8000, 0.2000, 0.3000]])\n",
            "tensor([0.4000, 0.3000, 0.2000, 0.3000]) tensor([0.4000, 0.8000, 0.2000, 0.3000])\n",
            "tensor([[0.4000, 0.3000, 0.2000, 0.3000]]) tensor([[0.4000, 0.8000, 0.2000, 0.3000]])\n",
            "tensor([0.4000, 0.3000, 0.2000, 0.3000]) tensor([0.4000, 0.8000, 0.2000, 0.3000])\n",
            "tensor([[0.4000, 0.3000, 0.2000, 0.3000]]) tensor([[0.4000, 0.8000, 0.2000, 0.3000]])\n",
            "tensor([[0.4000, 0.8000, 0.2000, 0.3000]]) tensor([[0.4000, 0.3000, 0.2000, 0.3000]])\n",
            "totalmente disjuntos\n"
          ]
        },
        {
          "output_type": "execute_result",
          "data": {
            "text/plain": [
              "LTNObject(value=tensor(0.0001), free_vars=[])"
            ]
          },
          "metadata": {},
          "execution_count": 332
        }
      ],
      "source": [
        "def ltnOutSideRightAbove(bb1 : torch.tensor, bb2 : torch.tensor):\n",
        "  bb1_ltn = ltn.Constant(bb1)\n",
        "  bb2_ltn = ltn.Constant(bb2)\n",
        "  return And(And(abovePredicate(bb1_ltn, bb2_ltn), rightPredicate(bb1_ltn, bb2_ltn) ), DPredicate(bb1_ltn, bb2_ltn))\n",
        "\n",
        "ltnOutSideRightAbove(bb1,bb2)"
      ]
    },
    {
      "cell_type": "code",
      "execution_count": null,
      "metadata": {
        "id": "kJRswq36gUeg",
        "colab": {
          "base_uri": "https://localhost:8080/"
        },
        "outputId": "2bc955b6-d5c4-4d40-f5aa-1e3ebdf2f765"
      },
      "outputs": [
        {
          "output_type": "stream",
          "name": "stdout",
          "text": [
            "tensor([[0.4000, 0.3000, 0.2000, 0.3000]]) tensor([[0.4000, 0.8000, 0.2000, 0.3000]])\n",
            "tensor([0.4000, 0.3000, 0.2000, 0.3000]) tensor([0.4000, 0.8000, 0.2000, 0.3000])\n",
            "tensor([[0.4000, 0.3000, 0.2000, 0.3000]]) tensor([[0.4000, 0.8000, 0.2000, 0.3000]])\n",
            "tensor([[0.4000, 0.8000, 0.2000, 0.3000]]) tensor([[0.4000, 0.3000, 0.2000, 0.3000]])\n",
            "totalmente disjuntos\n"
          ]
        },
        {
          "output_type": "execute_result",
          "data": {
            "text/plain": [
              "LTNObject(value=tensor(0.2008), free_vars=[])"
            ]
          },
          "metadata": {},
          "execution_count": 333
        }
      ],
      "source": [
        "def ltnOutSideRight(bb1 : torch.tensor, bb2 : torch.tensor):\n",
        "  bb1_ltn = ltn.Constant(bb1)\n",
        "  bb2_ltn = ltn.Constant(bb2)\n",
        "  return And(rightPredicate(bb1_ltn, bb2_ltn) , DPredicate(bb1_ltn, bb2_ltn))\n",
        "\n",
        "ltnOutSideRight(bb1,bb2)"
      ]
    },
    {
      "cell_type": "code",
      "execution_count": null,
      "metadata": {
        "id": "9rVaJFQtgUeg",
        "colab": {
          "base_uri": "https://localhost:8080/"
        },
        "outputId": "1ef32ea9-916c-4ba6-fb8e-b801210c5f22"
      },
      "outputs": [
        {
          "output_type": "stream",
          "name": "stdout",
          "text": [
            "tensor([[0.4000, 0.3000, 0.2000, 0.3000]]) tensor([[0.4000, 0.8000, 0.2000, 0.3000]])\n",
            "tensor([0.4000, 0.3000, 0.2000, 0.3000]) tensor([0.4000, 0.8000, 0.2000, 0.3000])\n",
            "tensor([[0.4000, 0.3000, 0.2000, 0.3000]]) tensor([[0.4000, 0.8000, 0.2000, 0.3000]])\n",
            "tensor([0.4000, 0.3000, 0.2000, 0.3000]) tensor([0.4000, 0.8000, 0.2000, 0.3000])\n",
            "tensor([[0.4000, 0.3000, 0.2000, 0.3000]]) tensor([[0.4000, 0.8000, 0.2000, 0.3000]])\n",
            "tensor([[0.4000, 0.8000, 0.2000, 0.3000]]) tensor([[0.4000, 0.3000, 0.2000, 0.3000]])\n",
            "totalmente disjuntos\n"
          ]
        },
        {
          "output_type": "execute_result",
          "data": {
            "text/plain": [
              "LTNObject(value=tensor(0.1606), free_vars=[])"
            ]
          },
          "metadata": {},
          "execution_count": 334
        }
      ],
      "source": [
        "def ltnOutSideRightBelow(bb1 : torch.tensor, bb2 : torch.tensor):\n",
        "  bb1_ltn = ltn.Constant(bb1)\n",
        "  bb2_ltn = ltn.Constant(bb2)\n",
        "  return And(And(belowPredicate(bb1_ltn, bb2_ltn), rightPredicate(bb1_ltn, bb2_ltn)), DPredicate(bb1_ltn, bb2_ltn))\n",
        "\n",
        "ltnOutSideRightBelow(bb1,bb2)"
      ]
    },
    {
      "cell_type": "code",
      "execution_count": null,
      "metadata": {
        "id": "kDt0kYdegUeg",
        "colab": {
          "base_uri": "https://localhost:8080/"
        },
        "outputId": "88aa34b8-300d-4004-da07-124fb2498313"
      },
      "outputs": [
        {
          "output_type": "stream",
          "name": "stdout",
          "text": [
            "tensor([[0.4000, 0.3000, 0.2000, 0.3000]]) tensor([[0.4000, 0.8000, 0.2000, 0.3000]])\n",
            "tensor([0.4000, 0.3000, 0.2000, 0.3000]) tensor([0.4000, 0.8000, 0.2000, 0.3000])\n",
            "tensor([[0.4000, 0.3000, 0.2000, 0.3000]]) tensor([[0.4000, 0.8000, 0.2000, 0.3000]])\n",
            "tensor([[0.4000, 0.8000, 0.2000, 0.3000]]) tensor([[0.4000, 0.3000, 0.2000, 0.3000]])\n",
            "totalmente disjuntos\n"
          ]
        },
        {
          "output_type": "execute_result",
          "data": {
            "text/plain": [
              "LTNObject(value=tensor(0.7993), free_vars=[])"
            ]
          },
          "metadata": {},
          "execution_count": 335
        }
      ],
      "source": [
        "def ltnOutBelow(bb1 : torch.tensor, bb2 : torch.tensor):\n",
        "  bb1_ltn = ltn.Constant(bb1)\n",
        "  bb2_ltn = ltn.Constant(bb2)\n",
        "  return And(belowPredicate(bb1_ltn, bb2_ltn), DPredicate(bb1_ltn, bb2_ltn))\n",
        "\n",
        "ltnOutBelow(bb1, bb2)"
      ]
    },
    {
      "cell_type": "code",
      "execution_count": null,
      "metadata": {
        "id": "1CU7jBlbgUeg",
        "colab": {
          "base_uri": "https://localhost:8080/"
        },
        "outputId": "ed6340d5-e305-4861-fdc2-621f0f39805a"
      },
      "outputs": [
        {
          "output_type": "stream",
          "name": "stdout",
          "text": [
            "tensor([[0.4000, 0.3000, 0.2000, 0.3000]]) tensor([[0.4000, 0.8000, 0.2000, 0.3000]])\n",
            "tensor([0.4000, 0.3000, 0.2000, 0.3000]) tensor([0.4000, 0.8000, 0.2000, 0.3000])\n",
            "tensor([[0.4000, 0.3000, 0.2000, 0.3000]]) tensor([[0.4000, 0.8000, 0.2000, 0.3000]])\n",
            "tensor([0.4000, 0.3000, 0.2000, 0.3000]) tensor([0.4000, 0.8000, 0.2000, 0.3000])\n",
            "tensor([[0.4000, 0.3000, 0.2000, 0.3000]]) tensor([[0.4000, 0.8000, 0.2000, 0.3000]])\n",
            "tensor([[0.4000, 0.8000, 0.2000, 0.3000]]) tensor([[0.4000, 0.3000, 0.2000, 0.3000]])\n",
            "totalmente disjuntos\n"
          ]
        },
        {
          "output_type": "execute_result",
          "data": {
            "text/plain": [
              "LTNObject(value=tensor(0.1606), free_vars=[])"
            ]
          },
          "metadata": {},
          "execution_count": 336
        }
      ],
      "source": [
        "def ltnOutSideLeftBelow(bb1 : torch.tensor, bb2 : torch.tensor):\n",
        "   bb1_ltn = ltn.Constant(bb1)\n",
        "   bb2_ltn = ltn.Constant(bb2)\n",
        "   return And(And(belowPredicate(bb1_ltn, bb2_ltn), leftPredicate(bb1_ltn, bb2_ltn) ), DPredicate(bb1_ltn, bb2_ltn))\n",
        "\n",
        "ltnOutSideLeftBelow(bb1,bb2)"
      ]
    },
    {
      "cell_type": "code",
      "execution_count": null,
      "metadata": {
        "id": "iMfPbiM_gUeg",
        "colab": {
          "base_uri": "https://localhost:8080/"
        },
        "outputId": "d6297bae-077f-4814-c702-fd0ff1effdfe"
      },
      "outputs": [
        {
          "output_type": "stream",
          "name": "stdout",
          "text": [
            "tensor([[0.4000, 0.3000, 0.2000, 0.3000]]) tensor([[0.4000, 0.8000, 0.2000, 0.3000]])\n",
            "tensor([0.4000, 0.3000, 0.2000, 0.3000]) tensor([0.4000, 0.8000, 0.2000, 0.3000])\n",
            "tensor([[0.4000, 0.3000, 0.2000, 0.3000]]) tensor([[0.4000, 0.8000, 0.2000, 0.3000]])\n",
            "tensor([[0.4000, 0.8000, 0.2000, 0.3000]]) tensor([[0.4000, 0.3000, 0.2000, 0.3000]])\n",
            "totalmente disjuntos\n"
          ]
        },
        {
          "output_type": "execute_result",
          "data": {
            "text/plain": [
              "LTNObject(value=tensor(0.2008), free_vars=[])"
            ]
          },
          "metadata": {},
          "execution_count": 337
        }
      ],
      "source": [
        "def ltnOutSideLeft(bb1 : torch.tensor, bb2 : torch.tensor):\n",
        "   bb1_ltn = ltn.Constant(bb1)\n",
        "   bb2_ltn = ltn.Constant(bb2)\n",
        "   return And(leftPredicate(bb1_ltn, bb2_ltn) , DPredicate(bb1_ltn, bb2_ltn))\n",
        "\n",
        "ltnOutSideLeft(bb1,bb2)"
      ]
    },
    {
      "cell_type": "markdown",
      "metadata": {
        "id": "43wPZM16CRRt"
      },
      "source": [
        "# Training with Equally Spaced (Não conseguimos finalizar)"
      ]
    },
    {
      "cell_type": "markdown",
      "metadata": {
        "id": "sp2Z6OzdP-TN"
      },
      "source": [
        "Gerando os bounding boxes com a função do Odailson (na seção codes originais)"
      ]
    },
    {
      "cell_type": "code",
      "execution_count": null,
      "metadata": {
        "id": "uc-zjPDWCYq0"
      },
      "outputs": [],
      "source": [
        "bb1 = [0.5, 0.5, 0.4, 0.8]  # Bounding box central usado como base para gerar a imagem\n",
        "boxes = generate_eq_spaced_bbs_in_(bb1)\n",
        "print('boxes : ', boxes)\n",
        "plot_all_bb_with_names(bb1, boxes)"
      ]
    },
    {
      "cell_type": "code",
      "execution_count": null,
      "metadata": {
        "id": "LeLAPoH4QnT1"
      },
      "outputs": [],
      "source": [
        "boxes"
      ]
    },
    {
      "cell_type": "code",
      "execution_count": null,
      "metadata": {
        "id": "1rWSs0f6Iv8i"
      },
      "outputs": [],
      "source": [
        "bboxes = []\n",
        "for elem in boxes:\n",
        "    bboxes.append((boxes[elem]))"
      ]
    },
    {
      "cell_type": "code",
      "execution_count": null,
      "metadata": {
        "id": "crhb0KxFIzXS"
      },
      "outputs": [],
      "source": [
        "bboxes"
      ]
    },
    {
      "cell_type": "code",
      "execution_count": null,
      "metadata": {
        "id": "UPIsumVEI2UY"
      },
      "outputs": [],
      "source": [
        "class ModelC(torch.nn.Module):\n",
        "    def __init__(self):\n",
        "        super(ModelC, self).__init__()\n",
        "        self.elu = torch.nn.ELU()\n",
        "        self.softmax = torch.nn.Softmax(dim=1)\n",
        "        self.dense1 = torch.nn.Linear(2, 5)\n",
        "        self.dense2 = torch.nn.Linear(5, 5)\n",
        "        self.dense3 = torch.nn.Linear(5, 2)\n",
        "\n",
        "    def forward(self, x, l):\n",
        "        x = self.elu(self.dense1(x))\n",
        "        x = self.elu(self.dense2(x))\n",
        "        prob = self.softmax(self.dense3(x))\n",
        "        return torch.sum(prob * l, dim=1)\n",
        "\n",
        "C = ltn.Predicate(ModelC())\n"
      ]
    },
    {
      "cell_type": "code",
      "execution_count": null,
      "metadata": {
        "id": "_MvBCHKfI6v0"
      },
      "outputs": [],
      "source": [
        "#declarando predicados\n",
        "ltnAbovePredicate = ltn.Predicate(func=ltnAbove)\n",
        "ltnRightPredicate = ltn.Predicate(func=ltnRight)\n",
        "ltnLeftPredicate = ltn.Predicate(func=ltnLeft)\n",
        "ltnBelowPredicate = ltn.Predicate(func=ltnBelow)\n",
        "ltnInSideLeftAbovePredicate = ltn.Predicate(func=ltnInSideLeftAbove)\n",
        "ltnInAbovePredicate = ltn.Predicate(func=ltnInAbove)\n",
        "ltnInSideRightAbovePredicate = ltn.Predicate(func=ltnInSideRightAbove)\n",
        "ltnInSideRightPredicate = ltn.Predicate(func=ltnInSideRight)\n",
        "ltnInSideRightBelowPredicate = ltn.Predicate(func=ltnInSideRightBelow)\n",
        "ltnInBelowPredicate = ltn.Predicate(func=ltnInBelow)\n",
        "ltnInSideLeftBelowPredicate = ltn.Predicate(func=ltnInSideLeftBelow)\n",
        "ltnInSideLeftPredicate = ltn.Predicate(func=ltnInSideLeft)\n",
        "ltnEdgeSideLeftAbovePredicate = ltn.Predicate(func=ltnEdgeSideLeftAbove)\n",
        "ltnEdgeAbovePredicate = ltn.Predicate(func=ltnEdgeAbove)\n",
        "ltnEdgeSideRightAbovePredicate = ltn.Predicate(func=ltnEdgeSideRightAbove)\n",
        "ltnEdgeSideRightPredicate = ltn.Predicate(func=ltnEdgeSideRight)\n",
        "ltnEdgeSideRightBelowPredicate = ltn.Predicate(func=ltnEdgeSideRightBelow)\n",
        "ltnEdgeBelowPredicate = ltn.Predicate(func=ltnEdgeBelow)\n",
        "ltnEdgeSideLeftBelowPredicate = ltn.Predicate(func=ltnEdgeSideLeftBelow)\n",
        "ltnEdgeSideLeftPredicate = ltn.Predicate(func=ltnEdgeSideLeft)\n",
        "ltnOutSideLeftAbovePredicate = ltn.Predicate(func=ltnOutSideLeftAbove)\n",
        "ltnOutAbovePredicate = ltn.Predicate(func=ltnOutAbove)\n",
        "ltnOutSideRightAbovePredicate = ltn.Predicate(func=ltnOutSideRightAbove)\n",
        "ltnOutSideRightPredicate = ltn.Predicate(func=ltnOutSideRight)\n",
        "ltnOutSideRightBelowPredicate = ltn.Predicate(func=ltnOutSideRightBelow)\n",
        "ltnOutBelowPredicate = ltn.Predicate(func=ltnOutBelow)\n",
        "ltnOutSideLeftBelowPredicate = ltn.Predicate(func=ltnOutSideLeftBelow)\n",
        "ltnOutSideLeftPredicate = ltn.Predicate(func=ltnOutSideLeft)\n"
      ]
    },
    {
      "cell_type": "code",
      "execution_count": null,
      "metadata": {
        "id": "rdZG7Nd6I-0y"
      },
      "outputs": [],
      "source": [
        "#variables and constants\n",
        "x1 = ltn.Variable(\"x1\", torch.tensor(bboxes))\n",
        "x2 = ltn.Variable(\"x2\", torch.tensor(bboxes))\n",
        "#labels\n",
        "#in - edge - out - right - left - above - bellow\n",
        "l_ltnAbove = ltn.Constant(torch.Tensor([0,0,0,0,0,1,0]))\n",
        "l_ltnRight = ltn.Constant(torch.Tensor([0,0,0,1,0,0,0]))\n",
        "l_ltnLeft = ltn.Constant(torch.Tensor([0,0,0,0,1,0,0]))\n",
        "l_ltnBelow = ltn.Constant(torch.Tensor([0,0,0,0,0,0,1]))\n",
        "l_ltnInSideLeftAbove = ltn.Constant(torch.Tensor([1,0,0,0,1,0,0]))\n",
        "l_ltnInAbove = ltn.Constant(torch.Tensor([1,0,0,0,0,1,0]))\n",
        "l_ltnInSideRightAbove = ltn.Constant(torch.Tensor([1,0,0,1,0,1,0]))\n",
        "l_ltnInSideRight = ltn.Constant(torch.Tensor([1,0,0,1,0,0,0]))\n",
        "l_ltnInSideRightBelow = ltn.Constant(torch.Tensor([1,0,0,1,0,0,1]))\n",
        "l_ltnInBelow = ltn.Constant(torch.Tensor([1,0,0,0,0,0,1]))\n",
        "l_ltnInSideLeftBelow = ltn.Constant(torch.Tensor([1,0,0,0,1,0,1]))\n",
        "l_ltnInSideLeft = ltn.Constant(torch.Tensor([1,0,0,0,1,0,0]))\n",
        "l_ltnEdgeSideLeftAbove = ltn.Constant(torch.Tensor([0,1,0,0,1,0,0]))\n",
        "l_ltnEdgeAbove = ltn.Constant(torch.Tensor([0,1,0,0,0,1,0]))\n",
        "l_ltnEdgeSideRightAbove = ltn.Constant(torch.Tensor([0,1,0,1,0,1,0]))\n",
        "l_ltnEdgeSideRight = ltn.Constant(torch.Tensor([0,1,0,1,0,0,0]))\n",
        "l_ltnEdgeSideRightBelow = ltn.Constant(torch.Tensor([0,1,0,1,0,0,1]))\n",
        "l_ltnEdgeBelow = ltn.Constant(torch.Tensor([0,1,0,0,0,0,1]))\n",
        "l_ltnEdgeSideLeftBelow = ltn.Constant(torch.Tensor([0,1,0,0,1,0,1]))\n",
        "l_ltnEdgeSideLeft = ltn.Constant(torch.Tensor([0,1,0,0,1,0,0]))\n",
        "l_ltnOutSideLeftAbove = ltn.Constant(torch.Tensor([0,0,1,0,1,1,0]))\n",
        "l_ltnOutAbove = ltn.Constant(torch.Tensor([0,0,1,0,0,1,0]))\n",
        "l_ltnOutSideRightAbove = ltn.Constant(torch.Tensor([0,0,1,1,0,1,0]))\n",
        "l_ltnOutSideRight = ltn.Constant(torch.Tensor([0,0,1,1,0,0,0]))\n",
        "l_ltnOutSideRightBelow = ltn.Constant(torch.Tensor([0,0,1,1,0,0,1]))\n",
        "l_ltnOutBelow = ltn.Constant(torch.Tensor([0,0,1,0,0,0,1]))\n",
        "l_ltnOutSideLeftBelow = ltn.Constant(torch.Tensor([0,0,1,0,1,0,1]))\n",
        "l_ltnOutSideLeft = ltn.Constant(torch.Tensor([0,0,1,0,1,0,0]))\n",
        "labels = [[0,0,0,0,0,1,0],[0,0,0,1,0,0,0],[0,0,0,0,1,0,0],[0,0,0,0,0,0,1],[0,0,0,0,0,0,1],\n",
        " [1,0,0,0,1,0,0],[1,0,0,0,0,1,0],[1,0,0,1,0,1,0],[1,0,0,1,0,0,0],[1,0,0,1,0,0,1],\n",
        " [1,0,0,0,0,0,1],[1,0,0,0,1,0,1],[1,0,0,0,1,0,0],[0,1,0,0,1,0,0],[0,1,0,0,0,1,0],\n",
        " [0,1,0,1,0,1,0],[0,1,0,1,0,0,0],[0,1,0,1,0,0,1],[0,1,0,0,0,0,1],[0,1,0,0,1,0,1],\n",
        " [0,1,0,0,1,0,0],[0,0,1,0,1,1,0],[0,0,1,0,0,1,0],[0,0,1,1,0,1,0],[0,0,1,1,0,0,0],\n",
        " [0,0,1,1,0,0,1],[0,0,1,0,0,0,1],[0,0,1,0,1,0,1],[0,0,1,0,1,0,0]]\n",
        "l = ltn.Variable(\"l\", torch.tensor(labels))"
      ]
    },
    {
      "cell_type": "code",
      "execution_count": null,
      "metadata": {
        "id": "wUZXSP2-JCJa"
      },
      "outputs": [],
      "source": [
        "Not = ltn.Connective(ltn.fuzzy_ops.NotStandard())\n",
        "Or = ltn.Connective(ltn.fuzzy_ops.OrProbSum())\n",
        "Implies = ltn.Connective(ltn.fuzzy_ops.ImpliesReichenbach())\n",
        "Equiv = ltn.Connective(ltn.fuzzy_ops.Equiv(ltn.fuzzy_ops.AndProd(), ltn.fuzzy_ops.ImpliesReichenbach()))\n",
        "Forall = ltn.Quantifier(ltn.fuzzy_ops.AggregPMeanError(p=2), quantifier=\"f\")\n",
        "Exists = ltn.Quantifier(ltn.fuzzy_ops.AggregPMean(p=6), quantifier=\"e\")"
      ]
    },
    {
      "cell_type": "markdown",
      "metadata": {
        "id": "jdvROb0-EK6N"
      },
      "source": [
        "# Testes"
      ]
    },
    {
      "cell_type": "code",
      "execution_count": null,
      "metadata": {
        "id": "6i-a4m4nHAsw"
      },
      "outputs": [],
      "source": [
        "# by default, SatAgg uses the pMeanError\n",
        "sat_agg = ltn.fuzzy_ops.SatAgg()\n",
        "\n",
        "# we need to learn the parameters of the predicate C\n",
        "optimizer = torch.optim.Adam(C.parameters(), lr=0.001)\n",
        "\n",
        "for epoch in range(2000):\n",
        "    optimizer.zero_grad()\n",
        "    loss = 1. - sat_agg(\n",
        "        Forall([x1, x2, l], Implies(ltnAbovePredicate(x1, x2), C(x1,x2,l_ltnAbove))),\n",
        "    )\n",
        "    loss.backward()\n",
        "    optimizer.step()\n",
        "    if epoch%200 == 0:\n",
        "        print(\"Epoch %d: Sat Level %.3f \"%(epoch, 1 - loss.item()))\n",
        "print(\"Training finished at Epoch %d with Sat Level %.3f\" %(epoch, 1 - loss.item()))"
      ]
    }
  ],
  "metadata": {
    "colab": {
      "collapsed_sections": [
        "Harmrl1MCtwa",
        "cFAP49LgyD94",
        "O16LkLNnDFmq",
        "9gyqwsbGyvi2",
        "vpNKEEpnyykR",
        "mlDNzNS33azk",
        "w6qUaxkRwWqB",
        "6uvnF8QwCx7g"
      ],
      "provenance": []
    },
    "kernelspec": {
      "display_name": "Python 3",
      "name": "python3"
    },
    "language_info": {
      "name": "python"
    }
  },
  "nbformat": 4,
  "nbformat_minor": 0
}